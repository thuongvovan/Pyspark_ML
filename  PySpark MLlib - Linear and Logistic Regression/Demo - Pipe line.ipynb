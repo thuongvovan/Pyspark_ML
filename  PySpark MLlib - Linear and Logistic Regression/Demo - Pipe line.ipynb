{
 "cells": [
  {
   "cell_type": "markdown",
   "metadata": {},
   "source": [
    "# PIPE LINE"
   ]
  },
  {
   "cell_type": "markdown",
   "metadata": {},
   "source": [
    "Xây dựng linear regression model để dự đoán thời lượng bay (flight duration) từ dow, org km (= mile * 1,60934)"
   ]
  },
  {
   "cell_type": "markdown",
   "metadata": {},
   "source": [
    "## Đọc dữ liệu"
   ]
  },
  {
   "cell_type": "code",
   "execution_count": 1,
   "metadata": {},
   "outputs": [],
   "source": [
    "from pyspark import SparkContext\n",
    "from pyspark.sql import SparkSession\n",
    "import findspark\n",
    "findspark.init()"
   ]
  },
  {
   "cell_type": "code",
   "execution_count": 2,
   "metadata": {},
   "outputs": [],
   "source": [
    "sc= SparkContext(appName= 'Demo linear regression', master= 'local')\n",
    "ss= SparkSession(sc)"
   ]
  },
  {
   "cell_type": "code",
   "execution_count": 3,
   "metadata": {},
   "outputs": [],
   "source": [
    "path= '/Users/vovanthuong/Desktop/9 - Big Data in Machine Learning/Data/Data ML/flights.csv'\n",
    "df= ss.read.csv(path, inferSchema= True, header= True)"
   ]
  },
  {
   "cell_type": "code",
   "execution_count": 4,
   "metadata": {},
   "outputs": [
    {
     "name": "stdout",
     "output_type": "stream",
     "text": [
      "+---+---+---+-------+------+---+----+------+--------+-----+\n",
      "|mon|dom|dow|carrier|flight|org|mile|depart|duration|delay|\n",
      "+---+---+---+-------+------+---+----+------+--------+-----+\n",
      "| 11| 20|  6|     US|    19|JFK|2153|  9.48|     351|   NA|\n",
      "|  0| 22|  2|     UA|  1107|ORD| 316| 16.33|      82|   30|\n",
      "|  2| 20|  4|     UA|   226|SFO| 337|  6.17|      82|   -8|\n",
      "+---+---+---+-------+------+---+----+------+--------+-----+\n",
      "only showing top 3 rows\n",
      "\n"
     ]
    }
   ],
   "source": [
    "df.show(3)"
   ]
  },
  {
   "cell_type": "code",
   "execution_count": 5,
   "metadata": {},
   "outputs": [
    {
     "name": "stdout",
     "output_type": "stream",
     "text": [
      "root\n",
      " |-- mon: integer (nullable = true)\n",
      " |-- dom: integer (nullable = true)\n",
      " |-- dow: integer (nullable = true)\n",
      " |-- carrier: string (nullable = true)\n",
      " |-- flight: integer (nullable = true)\n",
      " |-- org: string (nullable = true)\n",
      " |-- mile: integer (nullable = true)\n",
      " |-- depart: double (nullable = true)\n",
      " |-- duration: integer (nullable = true)\n",
      " |-- delay: string (nullable = true)\n",
      "\n"
     ]
    }
   ],
   "source": [
    "df.printSchema()"
   ]
  },
  {
   "cell_type": "markdown",
   "metadata": {},
   "source": [
    "## Chia dữ liệu"
   ]
  },
  {
   "cell_type": "code",
   "execution_count": 6,
   "metadata": {},
   "outputs": [],
   "source": [
    "train, test= df.randomSplit([0.8, 0.2])"
   ]
  },
  {
   "cell_type": "markdown",
   "metadata": {},
   "source": [
    "## Xây dựng Pipeline"
   ]
  },
  {
   "cell_type": "code",
   "execution_count": 110,
   "metadata": {},
   "outputs": [],
   "source": [
    "# Tạo đối tượng chuyển đổi cột  mile thành km\n",
    "from pyspark.ml.feature import SQLTransformer\n",
    "mile_km_converter= SQLTransformer(statement= 'SELECT dow, org, duration, round(mile * 1.60934) as km FROM __THIS__')"
   ]
  },
  {
   "cell_type": "code",
   "execution_count": 104,
   "metadata": {},
   "outputs": [],
   "source": [
    "# Tạo các đối tượng mã hóa dữ liệu\n",
    "from pyspark.ml.feature import StringIndexer, OneHotEncoderEstimator\n",
    "str_indexer= StringIndexer(inputCol= 'org', outputCol= 'org_index')\n",
    "oh_encoder= OneHotEncoderEstimator(inputCols= ['org_index'], outputCols= ['org_dummy'])"
   ]
  },
  {
   "cell_type": "code",
   "execution_count": 105,
   "metadata": {},
   "outputs": [],
   "source": [
    "# Tạo đối tượng để tạo vector\n",
    "from pyspark.ml.feature import VectorAssembler\n",
    "vector_assembler= VectorAssembler(inputCols= ['dow', 'org_dummy', 'km'], outputCol= 'features')"
   ]
  },
  {
   "cell_type": "code",
   "execution_count": 106,
   "metadata": {},
   "outputs": [],
   "source": [
    "# Tạo đối tượng min-max scaler\n",
    "from pyspark.ml.feature import MinMaxScaler\n",
    "mm_scaler= MinMaxScaler(inputCol= 'features', outputCol= 'scale_features')"
   ]
  },
  {
   "cell_type": "code",
   "execution_count": 107,
   "metadata": {},
   "outputs": [],
   "source": [
    "# Tạo đối tượng linear regression\n",
    "from pyspark.ml.regression import LinearRegression\n",
    "lir= LinearRegression(featuresCol= 'scale_features', labelCol= 'duration', predictionCol= 'duration_predict')"
   ]
  },
  {
   "cell_type": "code",
   "execution_count": 112,
   "metadata": {},
   "outputs": [],
   "source": [
    "# Tạo pipeline\n",
    "from pyspark.ml import Pipeline\n",
    "pipeline_lir= Pipeline(stages= [mile_km_converter, str_indexer, oh_encoder, vector_assembler, mm_scaler, lir])"
   ]
  },
  {
   "cell_type": "markdown",
   "metadata": {},
   "source": [
    "## Xây dựng mô hình dựa trên pipeline vừa tạo"
   ]
  },
  {
   "cell_type": "code",
   "execution_count": 113,
   "metadata": {},
   "outputs": [],
   "source": [
    "lir_model= pipeline_lir.fit(train)"
   ]
  },
  {
   "cell_type": "code",
   "execution_count": 114,
   "metadata": {},
   "outputs": [
    {
     "name": "stdout",
     "output_type": "stream",
     "text": [
      "+---+---+--------+----+---------+-------------+--------------------+--------------------+------------------+\n",
      "|dow|org|duration|  km|org_index|    org_dummy|            features|      scale_features|  duration_predict|\n",
      "+---+---+--------+----+---------+-------------+--------------------+--------------------+------------------+\n",
      "|  2|JFK|     370|3983|      2.0|(7,[2],[1.0])|(9,[0,3,8],[2.0,1...|[0.33333333333333...|364.39507981006113|\n",
      "|  2|JFK|     385|4162|      2.0|(7,[2],[1.0])|(9,[0,3,8],[2.0,1...|[0.33333333333333...| 377.6946656059827|\n",
      "|  2|ORD|     560|6828|      0.0|(7,[0],[1.0])|(9,[0,1,8],[2.0,1...|[0.33333333333333...| 551.6582642722782|\n",
      "|  2|SFO|     325|4352|      1.0|(7,[1],[1.0])|(9,[0,2,8],[2.0,1...|[0.33333333333333...|359.69161595492665|\n",
      "|  2|JFK|     379|3983|      2.0|(7,[2],[1.0])|(9,[0,3,8],[2.0,1...|[0.33333333333333...|364.39507981006113|\n",
      "+---+---+--------+----+---------+-------------+--------------------+--------------------+------------------+\n",
      "only showing top 5 rows\n",
      "\n"
     ]
    }
   ],
   "source": [
    "lir_model.transform(train).show(5)"
   ]
  },
  {
   "cell_type": "markdown",
   "metadata": {},
   "source": [
    "## Đánh giá mô hình"
   ]
  },
  {
   "cell_type": "markdown",
   "metadata": {},
   "source": [
    "metricName in evaluation - one of:\n",
    "                       - rmse - root mean squared error (default)\n",
    "                       - mse - mean squared error\n",
    "                       - r2 - r^2 metric\n",
    "                       - mae - mean absolute error"
   ]
  },
  {
   "cell_type": "markdown",
   "metadata": {},
   "source": [
    "### Đánh giá trên tập dữ liệu train"
   ]
  },
  {
   "cell_type": "code",
   "execution_count": 117,
   "metadata": {},
   "outputs": [],
   "source": [
    "train_result= lir_model.transform(train)"
   ]
  },
  {
   "cell_type": "code",
   "execution_count": 126,
   "metadata": {},
   "outputs": [
    {
     "name": "stdout",
     "output_type": "stream",
     "text": [
      "+---+---+--------+----+---------+-------------+--------------------+--------------------+------------------+\n",
      "|dow|org|duration|  km|org_index|    org_dummy|            features|      scale_features|  duration_predict|\n",
      "+---+---+--------+----+---------+-------------+--------------------+--------------------+------------------+\n",
      "|  2|JFK|     370|3983|      2.0|(7,[2],[1.0])|(9,[0,3,8],[2.0,1...|[0.33333333333333...|364.39507981006113|\n",
      "|  2|JFK|     385|4162|      2.0|(7,[2],[1.0])|(9,[0,3,8],[2.0,1...|[0.33333333333333...| 377.6946656059827|\n",
      "|  2|ORD|     560|6828|      0.0|(7,[0],[1.0])|(9,[0,1,8],[2.0,1...|[0.33333333333333...| 551.6582642722782|\n",
      "+---+---+--------+----+---------+-------------+--------------------+--------------------+------------------+\n",
      "only showing top 3 rows\n",
      "\n"
     ]
    }
   ],
   "source": [
    "train_result.show(3)"
   ]
  },
  {
   "cell_type": "code",
   "execution_count": 121,
   "metadata": {},
   "outputs": [
    {
     "data": {
      "text/plain": [
       "124.61079304057594"
      ]
     },
     "execution_count": 121,
     "metadata": {},
     "output_type": "execute_result"
    }
   ],
   "source": [
    "from pyspark.ml.evaluation import RegressionEvaluator"
   ]
  },
  {
   "cell_type": "code",
   "execution_count": 123,
   "metadata": {},
   "outputs": [
    {
     "name": "stdout",
     "output_type": "stream",
     "text": [
      "rmse : 11.16292045302554\n",
      "mse : 124.61079304057594\n",
      "r2 : 0.9835423247452423\n",
      "mae : 8.52828055387588\n"
     ]
    }
   ],
   "source": [
    "for metric in ['rmse', 'mse', 'r2', 'mae']:\n",
    "    value= RegressionEvaluator(labelCol= 'duration', predictionCol= 'duration_predict', metricName= metric).evaluate(train_result)\n",
    "    print(metric, ':', value)"
   ]
  },
  {
   "cell_type": "markdown",
   "metadata": {},
   "source": [
    "### Đánh giá trên tập dữ liệu test"
   ]
  },
  {
   "cell_type": "code",
   "execution_count": 124,
   "metadata": {},
   "outputs": [],
   "source": [
    "test_result= lir_model.transform(test)"
   ]
  },
  {
   "cell_type": "code",
   "execution_count": 127,
   "metadata": {},
   "outputs": [
    {
     "name": "stdout",
     "output_type": "stream",
     "text": [
      "+---+---+--------+----+---------+-------------+--------------------+--------------------+------------------+\n",
      "|dow|org|duration|  km|org_index|    org_dummy|            features|      scale_features|  duration_predict|\n",
      "+---+---+--------+----+---------+-------------+--------------------+--------------------+------------------+\n",
      "|  2|ORD|     135|1395|      0.0|(7,[0],[1.0])|(9,[0,1,8],[2.0,1...|[0.33333333333333...|147.98983058936142|\n",
      "|  2|ORD|     130|1180|      0.0|(7,[0],[1.0])|(9,[0,1,8],[2.0,1...|[0.33333333333333...| 132.0154677618578|\n",
      "|  2|ORD|     120|1180|      0.0|(7,[0],[1.0])|(9,[0,1,8],[2.0,1...|[0.33333333333333...| 132.0154677618578|\n",
      "+---+---+--------+----+---------+-------------+--------------------+--------------------+------------------+\n",
      "only showing top 3 rows\n",
      "\n"
     ]
    }
   ],
   "source": [
    "test_result.show(3)"
   ]
  },
  {
   "cell_type": "code",
   "execution_count": 125,
   "metadata": {},
   "outputs": [
    {
     "name": "stdout",
     "output_type": "stream",
     "text": [
      "rmse : 11.443495640246923\n",
      "mse : 130.95359246835034\n",
      "r2 : 0.9827628903787811\n",
      "mae : 8.540627936051639\n"
     ]
    }
   ],
   "source": [
    "for metric in ['rmse', 'mse', 'r2', 'mae']:\n",
    "    value= RegressionEvaluator(labelCol= 'duration', predictionCol= 'duration_predict', metricName= metric).evaluate(test_result)\n",
    "    print(metric, ':', value)"
   ]
  },
  {
   "cell_type": "code",
   "execution_count": null,
   "metadata": {},
   "outputs": [],
   "source": []
  }
 ],
 "metadata": {
  "kernelspec": {
   "display_name": "Python 3",
   "language": "python",
   "name": "python3"
  },
  "language_info": {
   "codemirror_mode": {
    "name": "ipython",
    "version": 3
   },
   "file_extension": ".py",
   "mimetype": "text/x-python",
   "name": "python",
   "nbconvert_exporter": "python",
   "pygments_lexer": "ipython3",
   "version": "3.7.4"
  }
 },
 "nbformat": 4,
 "nbformat_minor": 2
}
