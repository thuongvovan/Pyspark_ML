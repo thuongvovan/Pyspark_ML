{
 "cells": [
  {
   "cell_type": "markdown",
   "metadata": {},
   "source": [
    "# TITANIC"
   ]
  },
  {
   "cell_type": "code",
   "execution_count": 1,
   "metadata": {},
   "outputs": [],
   "source": [
    "from pyspark import SparkContext\n",
    "from pyspark.sql import SparkSession\n",
    "import findspark\n",
    "findspark.init()"
   ]
  },
  {
   "cell_type": "code",
   "execution_count": 2,
   "metadata": {},
   "outputs": [],
   "source": [
    "sc= SparkContext(appName= 'Chapter7-Excersice3', master= 'local')\n",
    "ss= SparkSession(sc)"
   ]
  },
  {
   "cell_type": "markdown",
   "metadata": {},
   "source": [
    "## Đọc dữ liệu"
   ]
  },
  {
   "cell_type": "code",
   "execution_count": 3,
   "metadata": {},
   "outputs": [],
   "source": [
    "path= '/Users/vovanthuong/Desktop/9 - Big Data in Machine Learning/Data/Chapter7/titanic.csv'\n",
    "df= ss.read.csv(path, inferSchema= True, header= True)"
   ]
  },
  {
   "cell_type": "code",
   "execution_count": 4,
   "metadata": {},
   "outputs": [
    {
     "name": "stdout",
     "output_type": "stream",
     "text": [
      "+-----------+--------+------+--------------------+------+----+-----+-----+---------+-------+-----+--------+\n",
      "|PassengerId|Survived|Pclass|                Name|   Sex| Age|SibSp|Parch|   Ticket|   Fare|Cabin|Embarked|\n",
      "+-----------+--------+------+--------------------+------+----+-----+-----+---------+-------+-----+--------+\n",
      "|          1|       0|     3|Braund, Mr. Owen ...|  male|22.0|    1|    0|A/5 21171|   7.25| null|       S|\n",
      "|          2|       1|     1|Cumings, Mrs. Joh...|female|38.0|    1|    0| PC 17599|71.2833|  C85|       C|\n",
      "+-----------+--------+------+--------------------+------+----+-----+-----+---------+-------+-----+--------+\n",
      "only showing top 2 rows\n",
      "\n"
     ]
    }
   ],
   "source": [
    "df.show(2)"
   ]
  },
  {
   "cell_type": "code",
   "execution_count": 5,
   "metadata": {},
   "outputs": [
    {
     "name": "stdout",
     "output_type": "stream",
     "text": [
      "root\n",
      " |-- PassengerId: integer (nullable = true)\n",
      " |-- Survived: integer (nullable = true)\n",
      " |-- Pclass: integer (nullable = true)\n",
      " |-- Name: string (nullable = true)\n",
      " |-- Sex: string (nullable = true)\n",
      " |-- Age: double (nullable = true)\n",
      " |-- SibSp: integer (nullable = true)\n",
      " |-- Parch: integer (nullable = true)\n",
      " |-- Ticket: string (nullable = true)\n",
      " |-- Fare: double (nullable = true)\n",
      " |-- Cabin: string (nullable = true)\n",
      " |-- Embarked: string (nullable = true)\n",
      "\n"
     ]
    }
   ],
   "source": [
    "df.printSchema()"
   ]
  },
  {
   "cell_type": "markdown",
   "metadata": {},
   "source": [
    "## Kiểm tra tổng quát bộ dữ liệu"
   ]
  },
  {
   "cell_type": "code",
   "execution_count": 6,
   "metadata": {},
   "outputs": [
    {
     "data": {
      "text/plain": [
       "891"
      ]
     },
     "execution_count": 6,
     "metadata": {},
     "output_type": "execute_result"
    }
   ],
   "source": [
    "df.count()"
   ]
  },
  {
   "cell_type": "code",
   "execution_count": 34,
   "metadata": {},
   "outputs": [
    {
     "name": "stdout",
     "output_type": "stream",
     "text": [
      "________________________PassengerId________________________\n",
      "dtype: int\n",
      "Number of group: 891\n",
      "+--------------------+---+---+-----+\n",
      "|PassengerId_Survived|  0|  1|total|\n",
      "+--------------------+---+---+-----+\n",
      "|                 645|  0|  1|    1|\n",
      "|                  69|  0|  1|    1|\n",
      "|                 809|  1|  0|    1|\n",
      "|                 629|  1|  0|    1|\n",
      "|                 365|  1|  0|    1|\n",
      "|                 138|  1|  0|    1|\n",
      "|                 760|  0|  1|    1|\n",
      "|                 101|  1|  0|    1|\n",
      "|                 479|  1|  0|    1|\n",
      "|                 347|  0|  1|    1|\n",
      "|                 846|  1|  0|    1|\n",
      "|                 333|  1|  0|    1|\n",
      "|                 628|  0|  1|    1|\n",
      "|                 249|  0|  1|    1|\n",
      "|                 518|  1|  0|    1|\n",
      "|                 468|  1|  0|    1|\n",
      "|                 234|  0|  1|    1|\n",
      "|                 777|  1|  0|    1|\n",
      "|                 555|  0|  1|    1|\n",
      "|                 666|  1|  0|    1|\n",
      "+--------------------+---+---+-----+\n",
      "only showing top 20 rows\n",
      "\n",
      "________________________Survived________________________\n",
      "dtype: int\n",
      "Number of group: 2\n",
      "+-----------------+---+---+-----+\n",
      "|Survived_Survived|  0|  1|total|\n",
      "+-----------------+---+---+-----+\n",
      "|                1|  0|342|  342|\n",
      "|                0|549|  0|  549|\n",
      "+-----------------+---+---+-----+\n",
      "\n",
      "________________________Pclass________________________\n",
      "dtype: int\n",
      "Number of group: 3\n",
      "+---------------+---+---+-----+\n",
      "|Pclass_Survived|  0|  1|total|\n",
      "+---------------+---+---+-----+\n",
      "|              2| 97| 87|  184|\n",
      "|              1| 80|136|  216|\n",
      "|              3|372|119|  491|\n",
      "+---------------+---+---+-----+\n",
      "\n",
      "________________________Name________________________\n",
      "dtype: string\n",
      "Number of group: 891\n",
      "+--------------------+---+---+-----+\n",
      "|       Name_Survived|  0|  1|total|\n",
      "+--------------------+---+---+-----+\n",
      "|Hedman, Mr. Oskar...|  0|  1|    1|\n",
      "|   Woolner, Mr. Hugh|  0|  1|    1|\n",
      "| Collyer, Mr. Harvey|  1|  0|    1|\n",
      "|    Buss, Miss. Kate|  0|  1|    1|\n",
      "| Pinsky, Mrs. (Rosa)|  0|  1|    1|\n",
      "|\"Hegarty, Miss. H...|  1|  0|    1|\n",
      "|Sutton, Mr. Frede...|  1|  0|    1|\n",
      "|Tornquist, Mr. Wi...|  0|  1|    1|\n",
      "|Gustafsson, Mr. A...|  1|  0|    1|\n",
      "|Vander Planke, Mr...|  1|  0|    1|\n",
      "|   Sivic, Mr. Husein|  1|  0|    1|\n",
      "|\"Lovell, Mr. John...|  1|  0|    1|\n",
      "|Allen, Mr. Willia...|  1|  0|    1|\n",
      "|Turpin, Mr. Willi...|  1|  0|    1|\n",
      "|Becker, Miss. Mar...|  0|  1|    1|\n",
      "|Madsen, Mr. Fridt...|  0|  1|    1|\n",
      "|Emanuel, Miss. Vi...|  0|  1|    1|\n",
      "|\"Flynn, Mr. John ...|  0|  1|    1|\n",
      "|Sjostedt, Mr. Ern...|  1|  0|    1|\n",
      "|Goodwin, Miss. Li...|  1|  0|    1|\n",
      "+--------------------+---+---+-----+\n",
      "only showing top 20 rows\n",
      "\n",
      "________________________Sex________________________\n",
      "dtype: string\n",
      "Number of group: 2\n",
      "+------------+---+---+-----+\n",
      "|Sex_Survived|  0|  1|total|\n",
      "+------------+---+---+-----+\n",
      "|        male|468|109|  577|\n",
      "|      female| 81|233|  314|\n",
      "+------------+---+---+-----+\n",
      "\n",
      "________________________Age________________________\n",
      "dtype: double\n",
      "Number of group: 89\n",
      "+------------+---+---+-----+\n",
      "|Age_Survived|  0|  1|total|\n",
      "+------------+---+---+-----+\n",
      "|        null|125| 52|  177|\n",
      "|         5.0|  0|  4|    4|\n",
      "|        10.0|  2|  0|    2|\n",
      "|        56.0|  2|  2|    4|\n",
      "|        70.5|  1|  0|    1|\n",
      "|        42.0|  7|  6|   13|\n",
      "|        24.0| 15| 15|   30|\n",
      "|        37.0|  5|  1|    6|\n",
      "|        25.0| 17|  6|   23|\n",
      "|        52.0|  3|  3|    6|\n",
      "|        14.0|  3|  3|    6|\n",
      "|        20.0| 12|  3|   15|\n",
      "|        46.0|  3|  0|    3|\n",
      "|        57.0|  2|  0|    2|\n",
      "|        29.0| 12|  8|   20|\n",
      "|        61.0|  3|  0|    3|\n",
      "|        40.5|  2|  0|    2|\n",
      "|        0.42|  0|  1|    1|\n",
      "|         1.0|  2|  5|    7|\n",
      "|        74.0|  1|  0|    1|\n",
      "+------------+---+---+-----+\n",
      "only showing top 20 rows\n",
      "\n",
      "________________________SibSp________________________\n",
      "dtype: int\n",
      "Number of group: 7\n",
      "+--------------+---+---+-----+\n",
      "|SibSp_Survived|  0|  1|total|\n",
      "+--------------+---+---+-----+\n",
      "|             0|398|210|  608|\n",
      "|             5|  5|  0|    5|\n",
      "|             1| 97|112|  209|\n",
      "|             2| 15| 13|   28|\n",
      "|             3| 12|  4|   16|\n",
      "|             8|  7|  0|    7|\n",
      "|             4| 15|  3|   18|\n",
      "+--------------+---+---+-----+\n",
      "\n",
      "________________________Parch________________________\n",
      "dtype: int\n",
      "Number of group: 7\n",
      "+--------------+---+---+-----+\n",
      "|Parch_Survived|  0|  1|total|\n",
      "+--------------+---+---+-----+\n",
      "|             0|445|233|  678|\n",
      "|             5|  4|  1|    5|\n",
      "|             1| 53| 65|  118|\n",
      "|             6|  1|  0|    1|\n",
      "|             2| 40| 40|   80|\n",
      "|             3|  2|  3|    5|\n",
      "|             4|  4|  0|    4|\n",
      "+--------------+---+---+-----+\n",
      "\n",
      "________________________Ticket________________________\n",
      "dtype: string\n",
      "Number of group: 681\n",
      "+-----------------+---+---+-----+\n",
      "|  Ticket_Survived|  0|  1|total|\n",
      "+-----------------+---+---+-----+\n",
      "|          3101277|  1|  0|    1|\n",
      "|           231919|  0|  2|    2|\n",
      "|           384461|  1|  0|    1|\n",
      "|             4137|  1|  0|    1|\n",
      "|           113572|  0|  2|    2|\n",
      "|           315094|  1|  0|    1|\n",
      "|           365226|  1|  0|    1|\n",
      "|             8475|  1|  0|    1|\n",
      "|            17466|  0|  1|    1|\n",
      "|            29751|  1|  0|    1|\n",
      "|           113789|  1|  1|    2|\n",
      "|         PC 17590|  1|  0|    1|\n",
      "|SOTON/O.Q. 392078|  0|  1|    1|\n",
      "|            28206|  1|  0|    1|\n",
      "|           349256|  0|  1|    1|\n",
      "|           342826|  1|  0|    1|\n",
      "|             2003|  0|  1|    1|\n",
      "|           343275|  1|  0|    1|\n",
      "|           365222|  1|  0|    1|\n",
      "|            31028|  1|  0|    1|\n",
      "+-----------------+---+---+-----+\n",
      "only showing top 20 rows\n",
      "\n",
      "________________________Fare________________________\n",
      "dtype: double\n",
      "Number of group: 248\n",
      "+-------------+---+---+-----+\n",
      "|Fare_Survived|  0|  1|total|\n",
      "+-------------+---+---+-----+\n",
      "|      11.1333|  0|  3|    3|\n",
      "|         7.25| 12|  1|   13|\n",
      "|       7.7958|  4|  2|    6|\n",
      "|      76.7292|  0|  3|    3|\n",
      "|        7.225|  9|  3|   12|\n",
      "|          0.0| 14|  1|   15|\n",
      "|         86.5|  0|  3|    3|\n",
      "|      71.2833|  0|  1|    1|\n",
      "|       8.4583|  1|  0|    1|\n",
      "|         16.7|  0|  2|    2|\n",
      "|        12.65|  0|  1|    1|\n",
      "|      20.2125|  2|  0|    2|\n",
      "|      106.425|  1|  1|    2|\n",
      "|      81.8583|  0|  1|    1|\n",
      "|          5.0|  1|  0|    1|\n",
      "|         6.75|  2|  0|    2|\n",
      "|        120.0|  0|  4|    4|\n",
      "|         33.5|  1|  0|    1|\n",
      "|      34.6542|  1|  0|    1|\n",
      "|      227.525|  1|  3|    4|\n",
      "+-------------+---+---+-----+\n",
      "only showing top 20 rows\n",
      "\n",
      "________________________Cabin________________________\n",
      "dtype: string\n",
      "Number of group: 148\n",
      "+---------------+---+---+-----+\n",
      "| Cabin_Survived|  0|  1|total|\n",
      "+---------------+---+---+-----+\n",
      "|             D7|  0|  1|    1|\n",
      "|            E50|  0|  1|    1|\n",
      "|B57 B59 B63 B66|  0|  2|    2|\n",
      "|           E121|  0|  2|    2|\n",
      "|            E36|  0|  1|    1|\n",
      "|           null|481|206|  687|\n",
      "|           B101|  0|  1|    1|\n",
      "|            B80|  0|  1|    1|\n",
      "|        C62 C64|  0|  1|    1|\n",
      "|            E63|  1|  0|    1|\n",
      "|            E44|  1|  1|    2|\n",
      "|            D36|  0|  2|    2|\n",
      "|             B5|  0|  2|    2|\n",
      "|          F E69|  0|  1|    1|\n",
      "|            E25|  0|  2|    2|\n",
      "|             E8|  0|  2|    2|\n",
      "|            D19|  0|  1|    1|\n",
      "|            F38|  1|  0|    1|\n",
      "|            C90|  0|  1|    1|\n",
      "|            B94|  1|  0|    1|\n",
      "+---------------+---+---+-----+\n",
      "only showing top 20 rows\n",
      "\n",
      "________________________Embarked________________________\n",
      "dtype: string\n",
      "Number of group: 4\n",
      "+-----------------+---+---+-----+\n",
      "|Embarked_Survived|  0|  1|total|\n",
      "+-----------------+---+---+-----+\n",
      "|                S|427|217|  644|\n",
      "|                C| 75| 93|  168|\n",
      "|                Q| 47| 30|   77|\n",
      "|             null|  0|  2|    2|\n",
      "+-----------------+---+---+-----+\n",
      "\n"
     ]
    }
   ],
   "source": [
    "for col in df.columns:\n",
    "    print('________________________{col}________________________'.format(col= col))\n",
    "    dtype= df.select(col).dtypes[0][1]\n",
    "    print('dtype:', dtype)\n",
    "    count= df.select(col).distinct().count()\n",
    "    print('Number of group:', count)\n",
    "    cross_table= df.crosstab(col1= col, col2= 'Survived')\n",
    "    cross_table.withColumn('total', sum(cross_table[col] for col in cross_table.columns[1:])).show()"
   ]
  },
  {
   "cell_type": "markdown",
   "metadata": {},
   "source": [
    "## Xác định input, output"
   ]
  },
  {
   "cell_type": "code",
   "execution_count": 63,
   "metadata": {},
   "outputs": [],
   "source": [
    "output_col= 'Survived'\n",
    "input_cols= df.columns\n",
    "input_cols.remove(output_col)\n",
    "input_cols.remove('PassengerId')\n",
    "input_cols.remove('Name')\n",
    "input_cols.remove('Ticket')\n",
    "input_cols.remove('Cabin')"
   ]
  },
  {
   "cell_type": "code",
   "execution_count": 50,
   "metadata": {},
   "outputs": [
    {
     "data": {
      "text/plain": [
       "['Pclass', 'Sex', 'Age', 'SibSp', 'Parch', 'Fare', 'Embarked']"
      ]
     },
     "execution_count": 50,
     "metadata": {},
     "output_type": "execute_result"
    }
   ],
   "source": [
    "input_cols"
   ]
  },
  {
   "cell_type": "markdown",
   "metadata": {},
   "source": [
    "## Kiểm tra NAN NULL"
   ]
  },
  {
   "cell_type": "code",
   "execution_count": 51,
   "metadata": {},
   "outputs": [
    {
     "data": {
      "text/html": [
       "<div>\n",
       "<style scoped>\n",
       "    .dataframe tbody tr th:only-of-type {\n",
       "        vertical-align: middle;\n",
       "    }\n",
       "\n",
       "    .dataframe tbody tr th {\n",
       "        vertical-align: top;\n",
       "    }\n",
       "\n",
       "    .dataframe thead th {\n",
       "        text-align: right;\n",
       "    }\n",
       "</style>\n",
       "<table border=\"1\" class=\"dataframe\">\n",
       "  <thead>\n",
       "    <tr style=\"text-align: right;\">\n",
       "      <th></th>\n",
       "      <th>0</th>\n",
       "    </tr>\n",
       "  </thead>\n",
       "  <tbody>\n",
       "    <tr>\n",
       "      <th>Pclass_nan</th>\n",
       "      <td>0</td>\n",
       "    </tr>\n",
       "    <tr>\n",
       "      <th>Sex_nan</th>\n",
       "      <td>0</td>\n",
       "    </tr>\n",
       "    <tr>\n",
       "      <th>Age_nan</th>\n",
       "      <td>0</td>\n",
       "    </tr>\n",
       "    <tr>\n",
       "      <th>SibSp_nan</th>\n",
       "      <td>0</td>\n",
       "    </tr>\n",
       "    <tr>\n",
       "      <th>Parch_nan</th>\n",
       "      <td>0</td>\n",
       "    </tr>\n",
       "    <tr>\n",
       "      <th>Fare_nan</th>\n",
       "      <td>0</td>\n",
       "    </tr>\n",
       "    <tr>\n",
       "      <th>Embarked_nan</th>\n",
       "      <td>0</td>\n",
       "    </tr>\n",
       "  </tbody>\n",
       "</table>\n",
       "</div>"
      ],
      "text/plain": [
       "              0\n",
       "Pclass_nan    0\n",
       "Sex_nan       0\n",
       "Age_nan       0\n",
       "SibSp_nan     0\n",
       "Parch_nan     0\n",
       "Fare_nan      0\n",
       "Embarked_nan  0"
      ]
     },
     "execution_count": 51,
     "metadata": {},
     "output_type": "execute_result"
    }
   ],
   "source": [
    "# Kiểm tra giá trị NaN\n",
    "from pyspark.sql.functions import count, when, isnan, isnull, col\n",
    "nan_data= df.select([count(when(isnan(c), c)).alias(c + '_nan') for c in input_cols]).toPandas().T\n",
    "nan_data"
   ]
  },
  {
   "cell_type": "code",
   "execution_count": 53,
   "metadata": {},
   "outputs": [
    {
     "data": {
      "text/html": [
       "<div>\n",
       "<style scoped>\n",
       "    .dataframe tbody tr th:only-of-type {\n",
       "        vertical-align: middle;\n",
       "    }\n",
       "\n",
       "    .dataframe tbody tr th {\n",
       "        vertical-align: top;\n",
       "    }\n",
       "\n",
       "    .dataframe thead th {\n",
       "        text-align: right;\n",
       "    }\n",
       "</style>\n",
       "<table border=\"1\" class=\"dataframe\">\n",
       "  <thead>\n",
       "    <tr style=\"text-align: right;\">\n",
       "      <th></th>\n",
       "      <th>0</th>\n",
       "    </tr>\n",
       "  </thead>\n",
       "  <tbody>\n",
       "    <tr>\n",
       "      <th>Pclass_null</th>\n",
       "      <td>0</td>\n",
       "    </tr>\n",
       "    <tr>\n",
       "      <th>Sex_null</th>\n",
       "      <td>0</td>\n",
       "    </tr>\n",
       "    <tr>\n",
       "      <th>Age_null</th>\n",
       "      <td>177</td>\n",
       "    </tr>\n",
       "    <tr>\n",
       "      <th>SibSp_null</th>\n",
       "      <td>0</td>\n",
       "    </tr>\n",
       "    <tr>\n",
       "      <th>Parch_null</th>\n",
       "      <td>0</td>\n",
       "    </tr>\n",
       "    <tr>\n",
       "      <th>Fare_null</th>\n",
       "      <td>0</td>\n",
       "    </tr>\n",
       "    <tr>\n",
       "      <th>Embarked_null</th>\n",
       "      <td>2</td>\n",
       "    </tr>\n",
       "  </tbody>\n",
       "</table>\n",
       "</div>"
      ],
      "text/plain": [
       "                 0\n",
       "Pclass_null      0\n",
       "Sex_null         0\n",
       "Age_null       177\n",
       "SibSp_null       0\n",
       "Parch_null       0\n",
       "Fare_null        0\n",
       "Embarked_null    2"
      ]
     },
     "execution_count": 53,
     "metadata": {},
     "output_type": "execute_result"
    }
   ],
   "source": [
    "# Kiểm tra giá trị Null\n",
    "null_data= df.select([count(when(isnull(c), c)).alias(c + '_null') for c in input_cols]).toPandas().T\n",
    "null_data"
   ]
  },
  {
   "cell_type": "code",
   "execution_count": 67,
   "metadata": {},
   "outputs": [],
   "source": [
    "df= df.dropna(how= 'any', subset= output_col)\n",
    "df= df.dropna(how= 'any', subset= input_cols)"
   ]
  },
  {
   "cell_type": "markdown",
   "metadata": {},
   "source": [
    "Việc loại bỏ hàng dữ liệu NAN hoặc NULL trong trường hợp này nhằm mục đích thực hành bài tập về hồi quy Logistic với Pyspark. Trong điều kiện thực tế việc xóa các dòng dữ liệu chứa NAN/NULL phụ thuộc nhiều vào một số yếu tố cần cân nhắc như: các dữ liệu thiếu (NAN/NULL) là thiếu ngẫu nhiên hay thiếu có hệ thống; số lượng dòng dữ liệu bị thiếu hoặc.  \n",
    "Đánh giá cá nhân việc sử lý các dữ liệu thiếu: Trong trường hợp thiếu dữ liệu được xác định là ngẫu nhiên, số lượng mẫu nhiều thì nên loại bỏ khỏi dữ liệu train phản ánh chính xác nhất với thực tế và tránh những sai lầm trong việc phỏng đoán dữ liệu thiếu cho mô hình. Nên xây dựng phương án xử lý dữ liệu thiếu cho dữ liệu train trong hầu hết trường hợp bởi lẽ nhu cầu thực tế khi sử dụng mô hình chính là dự đoán trong mọi trường hợp có thể xảy ra."
   ]
  },
  {
   "cell_type": "code",
   "execution_count": 69,
   "metadata": {},
   "outputs": [
    {
     "data": {
      "text/html": [
       "<div>\n",
       "<style scoped>\n",
       "    .dataframe tbody tr th:only-of-type {\n",
       "        vertical-align: middle;\n",
       "    }\n",
       "\n",
       "    .dataframe tbody tr th {\n",
       "        vertical-align: top;\n",
       "    }\n",
       "\n",
       "    .dataframe thead th {\n",
       "        text-align: right;\n",
       "    }\n",
       "</style>\n",
       "<table border=\"1\" class=\"dataframe\">\n",
       "  <thead>\n",
       "    <tr style=\"text-align: right;\">\n",
       "      <th></th>\n",
       "      <th>0</th>\n",
       "    </tr>\n",
       "  </thead>\n",
       "  <tbody>\n",
       "    <tr>\n",
       "      <th>Pclass_null</th>\n",
       "      <td>0</td>\n",
       "    </tr>\n",
       "    <tr>\n",
       "      <th>Sex_null</th>\n",
       "      <td>0</td>\n",
       "    </tr>\n",
       "    <tr>\n",
       "      <th>Age_null</th>\n",
       "      <td>0</td>\n",
       "    </tr>\n",
       "    <tr>\n",
       "      <th>SibSp_null</th>\n",
       "      <td>0</td>\n",
       "    </tr>\n",
       "    <tr>\n",
       "      <th>Parch_null</th>\n",
       "      <td>0</td>\n",
       "    </tr>\n",
       "    <tr>\n",
       "      <th>Fare_null</th>\n",
       "      <td>0</td>\n",
       "    </tr>\n",
       "    <tr>\n",
       "      <th>Embarked_null</th>\n",
       "      <td>0</td>\n",
       "    </tr>\n",
       "  </tbody>\n",
       "</table>\n",
       "</div>"
      ],
      "text/plain": [
       "               0\n",
       "Pclass_null    0\n",
       "Sex_null       0\n",
       "Age_null       0\n",
       "SibSp_null     0\n",
       "Parch_null     0\n",
       "Fare_null      0\n",
       "Embarked_null  0"
      ]
     },
     "execution_count": 69,
     "metadata": {},
     "output_type": "execute_result"
    }
   ],
   "source": [
    "# Kiểm tra giá trị Null\n",
    "null_data= df.select([count(when(isnull(c), c)).alias(c + '_null') for c in input_cols]).toPandas().T\n",
    "null_data"
   ]
  },
  {
   "cell_type": "markdown",
   "metadata": {},
   "source": [
    "## Chia tập dữ liệu train và test"
   ]
  },
  {
   "cell_type": "code",
   "execution_count": 70,
   "metadata": {},
   "outputs": [],
   "source": [
    "train, test= df.randomSplit([0.8, 0.2])"
   ]
  },
  {
   "cell_type": "code",
   "execution_count": 71,
   "metadata": {},
   "outputs": [
    {
     "data": {
      "text/plain": [
       "712"
      ]
     },
     "execution_count": 71,
     "metadata": {},
     "output_type": "execute_result"
    }
   ],
   "source": [
    "df.count()"
   ]
  },
  {
   "cell_type": "markdown",
   "metadata": {},
   "source": [
    "## Tạo Pipe xử lý dữ liệu"
   ]
  },
  {
   "cell_type": "code",
   "execution_count": 101,
   "metadata": {},
   "outputs": [],
   "source": [
    "from pyspark.ml.feature import SQLTransformer\n",
    "select_column= SQLTransformer(statement= 'SELECT {input_cols}, {output_col} FROM __THIS__'.format(input_cols= ','.join(input_cols), output_col= output_col))"
   ]
  },
  {
   "cell_type": "code",
   "execution_count": 115,
   "metadata": {},
   "outputs": [],
   "source": [
    "from pyspark.ml.feature import StringIndexer\n",
    "sex_str_indexer= StringIndexer(inputCol= 'Sex', outputCol= 'Sex_idx')\n",
    "embarked_str_indexer= StringIndexer(inputCol= 'Embarked', outputCol= 'Embarked_idx')"
   ]
  },
  {
   "cell_type": "code",
   "execution_count": 117,
   "metadata": {},
   "outputs": [],
   "source": [
    "from pyspark.ml.feature import OneHotEncoderEstimator\n",
    "oh_encoder= OneHotEncoderEstimator(inputCols= ['Embarked_idx'], outputCols= ['Embarked_dummy'])"
   ]
  },
  {
   "cell_type": "code",
   "execution_count": 118,
   "metadata": {},
   "outputs": [],
   "source": [
    "from pyspark.ml.feature import VectorAssembler\n",
    "vec_assembler= VectorAssembler(inputCols= ['Pclass', 'Sex_idx', 'Age', 'SibSp', 'Parch', 'Fare', 'Embarked_dummy'], outputCol= 'features')"
   ]
  },
  {
   "cell_type": "code",
   "execution_count": 119,
   "metadata": {},
   "outputs": [],
   "source": [
    "from pyspark.ml.feature import MinMaxScaler\n",
    "mm_scaler= MinMaxScaler(inputCol= 'features', outputCol= 'features_scale')"
   ]
  },
  {
   "cell_type": "code",
   "execution_count": 122,
   "metadata": {},
   "outputs": [],
   "source": [
    "from pyspark.ml import Pipeline\n",
    "pipeline_process= Pipeline(stages=[select_column, sex_str_indexer, embarked_str_indexer, oh_encoder, vec_assembler, mm_scaler])"
   ]
  },
  {
   "cell_type": "markdown",
   "metadata": {},
   "source": [
    "## Tạo mô hình Logistic"
   ]
  },
  {
   "cell_type": "code",
   "execution_count": 124,
   "metadata": {},
   "outputs": [],
   "source": [
    "process= pipeline_process.fit(train)\n",
    "train_cleaned= process.transform(train)"
   ]
  },
  {
   "cell_type": "code",
   "execution_count": 125,
   "metadata": {},
   "outputs": [],
   "source": [
    "from pyspark.ml.classification import LogisticRegression\n",
    "lgt= LogisticRegression(featuresCol= 'features_scale', labelCol= output_col, predictionCol= output_col + 'predict')\n",
    "lgt_model= lgt.fit(train_cleaned)"
   ]
  },
  {
   "cell_type": "markdown",
   "metadata": {},
   "source": [
    "## Đánh giá mô hình"
   ]
  },
  {
   "cell_type": "markdown",
   "metadata": {},
   "source": [
    "### Đánh giá trên tập train"
   ]
  },
  {
   "cell_type": "code",
   "execution_count": 126,
   "metadata": {},
   "outputs": [],
   "source": [
    "lgt_evaluate_train= lgt_model.evaluate(train_cleaned)"
   ]
  },
  {
   "cell_type": "code",
   "execution_count": 127,
   "metadata": {},
   "outputs": [
    {
     "data": {
      "text/plain": [
       "0.8125"
      ]
     },
     "execution_count": 127,
     "metadata": {},
     "output_type": "execute_result"
    }
   ],
   "source": [
    "lgt_evaluate_train.accuracy"
   ]
  },
  {
   "cell_type": "code",
   "execution_count": 128,
   "metadata": {},
   "outputs": [
    {
     "data": {
      "text/plain": [
       "[0.8202247191011236, 0.7990196078431373]"
      ]
     },
     "execution_count": 128,
     "metadata": {},
     "output_type": "execute_result"
    }
   ],
   "source": [
    "lgt_evaluate_train.precisionByLabel"
   ]
  },
  {
   "cell_type": "code",
   "execution_count": 129,
   "metadata": {},
   "outputs": [
    {
     "data": {
      "text/plain": [
       "[0.8768768768768769, 0.7180616740088106]"
      ]
     },
     "execution_count": 129,
     "metadata": {},
     "output_type": "execute_result"
    }
   ],
   "source": [
    "lgt_evaluate_train.recallByLabel"
   ]
  },
  {
   "cell_type": "code",
   "execution_count": 130,
   "metadata": {},
   "outputs": [
    {
     "data": {
      "text/plain": [
       "0.8598444259237211"
      ]
     },
     "execution_count": 130,
     "metadata": {},
     "output_type": "execute_result"
    }
   ],
   "source": [
    "lgt_evaluate_train.areaUnderROC"
   ]
  },
  {
   "cell_type": "markdown",
   "metadata": {},
   "source": [
    "### Đánh giá trên tập test"
   ]
  },
  {
   "cell_type": "code",
   "execution_count": 131,
   "metadata": {},
   "outputs": [],
   "source": [
    "test_cleaned= process.transform(test)"
   ]
  },
  {
   "cell_type": "code",
   "execution_count": 132,
   "metadata": {},
   "outputs": [],
   "source": [
    "lgt_evaluate_test= lgt_model.evaluate(test_cleaned)"
   ]
  },
  {
   "cell_type": "code",
   "execution_count": 133,
   "metadata": {},
   "outputs": [
    {
     "data": {
      "text/plain": [
       "0.7828947368421053"
      ]
     },
     "execution_count": 133,
     "metadata": {},
     "output_type": "execute_result"
    }
   ],
   "source": [
    "lgt_evaluate_test.accuracy"
   ]
  },
  {
   "cell_type": "code",
   "execution_count": 134,
   "metadata": {},
   "outputs": [
    {
     "data": {
      "text/plain": [
       "[0.8085106382978723, 0.7413793103448276]"
      ]
     },
     "execution_count": 134,
     "metadata": {},
     "output_type": "execute_result"
    }
   ],
   "source": [
    "lgt_evaluate_test.precisionByLabel"
   ]
  },
  {
   "cell_type": "code",
   "execution_count": 135,
   "metadata": {},
   "outputs": [
    {
     "data": {
      "text/plain": [
       "[0.8351648351648352, 0.7049180327868853]"
      ]
     },
     "execution_count": 135,
     "metadata": {},
     "output_type": "execute_result"
    }
   ],
   "source": [
    "lgt_evaluate_test.recallByLabel"
   ]
  },
  {
   "cell_type": "code",
   "execution_count": 136,
   "metadata": {},
   "outputs": [
    {
     "data": {
      "text/plain": [
       "0.8540803458836244"
      ]
     },
     "execution_count": 136,
     "metadata": {},
     "output_type": "execute_result"
    }
   ],
   "source": [
    "lgt_evaluate_test.areaUnderROC"
   ]
  },
  {
   "cell_type": "code",
   "execution_count": null,
   "metadata": {},
   "outputs": [],
   "source": []
  }
 ],
 "metadata": {
  "kernelspec": {
   "display_name": "Python 3",
   "language": "python",
   "name": "python3"
  },
  "language_info": {
   "codemirror_mode": {
    "name": "ipython",
    "version": 3
   },
   "file_extension": ".py",
   "mimetype": "text/x-python",
   "name": "python",
   "nbconvert_exporter": "python",
   "pygments_lexer": "ipython3",
   "version": "3.7.4"
  }
 },
 "nbformat": 4,
 "nbformat_minor": 2
}
