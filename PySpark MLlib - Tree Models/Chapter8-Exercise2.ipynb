{
 "cells": [
  {
   "cell_type": "markdown",
   "metadata": {},
   "source": [
    "# CHAPTER 8 - EXCERCISE 2"
   ]
  },
  {
   "cell_type": "code",
   "execution_count": 1,
   "metadata": {},
   "outputs": [],
   "source": [
    "import findspark\n",
    "findspark.init()\n",
    "import pyspark\n",
    "from pyspark import SparkContext\n",
    "from pyspark.sql import SparkSession"
   ]
  },
  {
   "cell_type": "code",
   "execution_count": 2,
   "metadata": {},
   "outputs": [],
   "source": [
    "sc= SparkContext(master= 'local', appName= 'Chapter 8 - Exercise 2')\n",
    "ss= SparkSession(sc)"
   ]
  },
  {
   "cell_type": "markdown",
   "metadata": {},
   "source": [
    "## Nhập dữ liệu"
   ]
  },
  {
   "cell_type": "code",
   "execution_count": 3,
   "metadata": {},
   "outputs": [],
   "source": [
    "path= '/Users/vovanthuong/Desktop/9 - Big Data in Machine Learning/Data/Chapter6/dog_food.csv'\n",
    "df= ss.read.csv(path, header= True, inferSchema= True)"
   ]
  },
  {
   "cell_type": "code",
   "execution_count": 5,
   "metadata": {},
   "outputs": [
    {
     "data": {
      "text/plain": [
       "490"
      ]
     },
     "execution_count": 5,
     "metadata": {},
     "output_type": "execute_result"
    }
   ],
   "source": [
    "df.count()"
   ]
  },
  {
   "cell_type": "code",
   "execution_count": 4,
   "metadata": {},
   "outputs": [
    {
     "name": "stdout",
     "output_type": "stream",
     "text": [
      "+---+---+----+---+-------+\n",
      "|  A|  B|   C|  D|Spoiled|\n",
      "+---+---+----+---+-------+\n",
      "|  4|  2|12.0|  3|    1.0|\n",
      "|  5|  6|12.0|  7|    1.0|\n",
      "|  6|  2|13.0|  6|    1.0|\n",
      "+---+---+----+---+-------+\n",
      "only showing top 3 rows\n",
      "\n"
     ]
    }
   ],
   "source": [
    "df.show(3)"
   ]
  },
  {
   "cell_type": "code",
   "execution_count": 6,
   "metadata": {},
   "outputs": [
    {
     "name": "stdout",
     "output_type": "stream",
     "text": [
      "+-------+-----+\n",
      "|Spoiled|count|\n",
      "+-------+-----+\n",
      "|    0.0|  350|\n",
      "|    1.0|  140|\n",
      "+-------+-----+\n",
      "\n"
     ]
    }
   ],
   "source": [
    "df.groupBy('Spoiled').count().show()"
   ]
  },
  {
   "cell_type": "markdown",
   "metadata": {},
   "source": [
    "## Kiểm tra dữ liệu"
   ]
  },
  {
   "cell_type": "code",
   "execution_count": 7,
   "metadata": {},
   "outputs": [
    {
     "name": "stdout",
     "output_type": "stream",
     "text": [
      "root\n",
      " |-- A: integer (nullable = true)\n",
      " |-- B: integer (nullable = true)\n",
      " |-- C: double (nullable = true)\n",
      " |-- D: integer (nullable = true)\n",
      " |-- Spoiled: double (nullable = true)\n",
      "\n"
     ]
    }
   ],
   "source": [
    "df.printSchema()"
   ]
  },
  {
   "cell_type": "code",
   "execution_count": 8,
   "metadata": {},
   "outputs": [
    {
     "data": {
      "text/html": [
       "<div>\n",
       "<style scoped>\n",
       "    .dataframe tbody tr th:only-of-type {\n",
       "        vertical-align: middle;\n",
       "    }\n",
       "\n",
       "    .dataframe tbody tr th {\n",
       "        vertical-align: top;\n",
       "    }\n",
       "\n",
       "    .dataframe thead th {\n",
       "        text-align: right;\n",
       "    }\n",
       "</style>\n",
       "<table border=\"1\" class=\"dataframe\">\n",
       "  <thead>\n",
       "    <tr style=\"text-align: right;\">\n",
       "      <th></th>\n",
       "      <th>0</th>\n",
       "    </tr>\n",
       "  </thead>\n",
       "  <tbody>\n",
       "    <tr>\n",
       "      <th>A_nan</th>\n",
       "      <td>0</td>\n",
       "    </tr>\n",
       "    <tr>\n",
       "      <th>B_nan</th>\n",
       "      <td>0</td>\n",
       "    </tr>\n",
       "    <tr>\n",
       "      <th>C_nan</th>\n",
       "      <td>0</td>\n",
       "    </tr>\n",
       "    <tr>\n",
       "      <th>D_nan</th>\n",
       "      <td>0</td>\n",
       "    </tr>\n",
       "    <tr>\n",
       "      <th>Spoiled_nan</th>\n",
       "      <td>0</td>\n",
       "    </tr>\n",
       "  </tbody>\n",
       "</table>\n",
       "</div>"
      ],
      "text/plain": [
       "             0\n",
       "A_nan        0\n",
       "B_nan        0\n",
       "C_nan        0\n",
       "D_nan        0\n",
       "Spoiled_nan  0"
      ]
     },
     "execution_count": 8,
     "metadata": {},
     "output_type": "execute_result"
    }
   ],
   "source": [
    "from pyspark.sql.functions import count, when, isnan, isnull, col\n",
    "nan_data= df.select([count(when(isnan(c), c)).alias(c + '_nan') for c in df.columns]).toPandas().T\n",
    "nan_data"
   ]
  },
  {
   "cell_type": "code",
   "execution_count": 9,
   "metadata": {},
   "outputs": [
    {
     "data": {
      "text/html": [
       "<div>\n",
       "<style scoped>\n",
       "    .dataframe tbody tr th:only-of-type {\n",
       "        vertical-align: middle;\n",
       "    }\n",
       "\n",
       "    .dataframe tbody tr th {\n",
       "        vertical-align: top;\n",
       "    }\n",
       "\n",
       "    .dataframe thead th {\n",
       "        text-align: right;\n",
       "    }\n",
       "</style>\n",
       "<table border=\"1\" class=\"dataframe\">\n",
       "  <thead>\n",
       "    <tr style=\"text-align: right;\">\n",
       "      <th></th>\n",
       "      <th>0</th>\n",
       "    </tr>\n",
       "  </thead>\n",
       "  <tbody>\n",
       "    <tr>\n",
       "      <th>A_null</th>\n",
       "      <td>0</td>\n",
       "    </tr>\n",
       "    <tr>\n",
       "      <th>B_null</th>\n",
       "      <td>0</td>\n",
       "    </tr>\n",
       "    <tr>\n",
       "      <th>C_null</th>\n",
       "      <td>0</td>\n",
       "    </tr>\n",
       "    <tr>\n",
       "      <th>D_null</th>\n",
       "      <td>0</td>\n",
       "    </tr>\n",
       "    <tr>\n",
       "      <th>Spoiled_null</th>\n",
       "      <td>0</td>\n",
       "    </tr>\n",
       "  </tbody>\n",
       "</table>\n",
       "</div>"
      ],
      "text/plain": [
       "              0\n",
       "A_null        0\n",
       "B_null        0\n",
       "C_null        0\n",
       "D_null        0\n",
       "Spoiled_null  0"
      ]
     },
     "execution_count": 9,
     "metadata": {},
     "output_type": "execute_result"
    }
   ],
   "source": [
    "null_data= df.select([count(when(isnull(c), c)).alias(c + '_null') for c in df.columns]).toPandas().T\n",
    "null_data"
   ]
  },
  {
   "cell_type": "markdown",
   "metadata": {},
   "source": [
    "## Tách tập train và test"
   ]
  },
  {
   "cell_type": "code",
   "execution_count": 10,
   "metadata": {},
   "outputs": [],
   "source": [
    "train, test= df.randomSplit([0.8, 0.2])"
   ]
  },
  {
   "cell_type": "markdown",
   "metadata": {},
   "source": [
    "## Tạo model"
   ]
  },
  {
   "cell_type": "code",
   "execution_count": 13,
   "metadata": {},
   "outputs": [],
   "source": [
    "from pyspark.ml.feature import VectorAssembler\n",
    "input_cols= ['A', 'B', 'C', 'D']\n",
    "vector_assembler= VectorAssembler(inputCols= input_cols, outputCol= 'features')\n",
    "train_cleaned= vector_assembler.transform(train)"
   ]
  },
  {
   "cell_type": "code",
   "execution_count": 14,
   "metadata": {},
   "outputs": [],
   "source": [
    "from pyspark.ml.classification import DecisionTreeClassifier, RandomForestClassifier, GBTClassifier"
   ]
  },
  {
   "cell_type": "code",
   "execution_count": 25,
   "metadata": {},
   "outputs": [],
   "source": [
    "# DecisionTreeClassifier\n",
    "dt_classifier= DecisionTreeClassifier(featuresCol= 'features', labelCol= 'Spoiled')\n",
    "dt_classifier_model= dt_classifier.fit(train_cleaned)\n",
    "\n",
    "# RandomForestClassifier\n",
    "rf_classifier= RandomForestClassifier(featuresCol= 'features', labelCol= 'Spoiled', numTrees= 30)\n",
    "rf_classifier_model= rf_classifier.fit(train_cleaned)\n",
    "\n",
    "# GBTClassifier\n",
    "gbt_classifier= GBTClassifier(featuresCol= 'features',labelCol= 'Spoiled')\n",
    "gbt_classifier_model= gbt_classifier.fit(train_cleaned)"
   ]
  },
  {
   "cell_type": "markdown",
   "metadata": {},
   "source": [
    "## Đánh giá model"
   ]
  },
  {
   "cell_type": "code",
   "execution_count": 28,
   "metadata": {},
   "outputs": [],
   "source": [
    "def model_evaluator(data):\n",
    "    from pyspark.ml.evaluation import MulticlassClassificationEvaluator, BinaryClassificationEvaluator\n",
    "    mutil_classification_evaluator= MulticlassClassificationEvaluator(labelCol= 'Spoiled')\n",
    "    accuracy= mutil_classification_evaluator.setMetricName('accuracy')\n",
    "    f1= mutil_classification_evaluator.setMetricName('f1')\n",
    "    bi_classification_evaluator= BinaryClassificationEvaluator(labelCol= 'Spoiled')\n",
    "    auc= bi_classification_evaluator.setMetricName('areaUnderROC')\n",
    "    for model in [dt_classifier_model, rf_classifier_model, gbt_classifier_model]:\n",
    "        print(model)\n",
    "        data_result= model.transform(data)\n",
    "        data_result.groupBy('Spoiled', 'prediction').count().show()\n",
    "        print('Accuracy: ', accuracy.evaluate(data_result))\n",
    "        print('F1: ', f1.evaluate(data_result))\n",
    "        print('AUC: ', auc.evaluate(data_result))\n",
    "        print()"
   ]
  },
  {
   "cell_type": "markdown",
   "metadata": {},
   "source": [
    "### Trên tập train"
   ]
  },
  {
   "cell_type": "code",
   "execution_count": 29,
   "metadata": {},
   "outputs": [
    {
     "name": "stdout",
     "output_type": "stream",
     "text": [
      "DecisionTreeClassificationModel (uid=DecisionTreeClassifier_8ecd95221e96) of depth 5 with 17 nodes\n",
      "+-------+----------+-----+\n",
      "|Spoiled|prediction|count|\n",
      "+-------+----------+-----+\n",
      "|    1.0|       1.0|  109|\n",
      "|    0.0|       1.0|    1|\n",
      "|    1.0|       0.0|    4|\n",
      "|    0.0|       0.0|  288|\n",
      "+-------+----------+-----+\n",
      "\n",
      "Accuracy:  0.9875106380372476\n",
      "F1:  0.9875106380372476\n",
      "AUC:  0.9804636065774566\n",
      "\n",
      "RandomForestClassificationModel (uid=RandomForestClassifier_be54e7a9b10a) with 30 trees\n",
      "+-------+----------+-----+\n",
      "|Spoiled|prediction|count|\n",
      "+-------+----------+-----+\n",
      "|    1.0|       1.0|  109|\n",
      "|    0.0|       1.0|    1|\n",
      "|    1.0|       0.0|    4|\n",
      "|    0.0|       0.0|  288|\n",
      "+-------+----------+-----+\n",
      "\n",
      "Accuracy:  0.9875106380372476\n",
      "F1:  0.9875106380372476\n",
      "AUC:  0.999372263220749\n",
      "\n",
      "GBTClassificationModel (uid=GBTClassifier_d2a03f3d691d) with 20 trees\n",
      "+-------+----------+-----+\n",
      "|Spoiled|prediction|count|\n",
      "+-------+----------+-----+\n",
      "|    1.0|       1.0|  113|\n",
      "|    0.0|       1.0|    1|\n",
      "|    0.0|       0.0|  288|\n",
      "+-------+----------+-----+\n",
      "\n",
      "Accuracy:  0.9975157614229981\n",
      "F1:  0.9975157614229981\n",
      "AUC:  0.9999540680405427\n",
      "\n"
     ]
    }
   ],
   "source": [
    "model_evaluator(train_cleaned)"
   ]
  },
  {
   "cell_type": "markdown",
   "metadata": {},
   "source": [
    "### Trên tập test"
   ]
  },
  {
   "cell_type": "code",
   "execution_count": 30,
   "metadata": {},
   "outputs": [],
   "source": [
    "test_cleaned= vector_assembler.transform(test)"
   ]
  },
  {
   "cell_type": "code",
   "execution_count": 31,
   "metadata": {},
   "outputs": [
    {
     "name": "stdout",
     "output_type": "stream",
     "text": [
      "DecisionTreeClassificationModel (uid=DecisionTreeClassifier_8ecd95221e96) of depth 5 with 17 nodes\n",
      "+-------+----------+-----+\n",
      "|Spoiled|prediction|count|\n",
      "+-------+----------+-----+\n",
      "|    1.0|       1.0|   26|\n",
      "|    0.0|       1.0|    1|\n",
      "|    1.0|       0.0|    1|\n",
      "|    0.0|       0.0|   60|\n",
      "+-------+----------+-----+\n",
      "\n",
      "Accuracy:  0.9772727272727273\n",
      "F1:  0.9772727272727273\n",
      "AUC:  0.9984820886460231\n",
      "\n",
      "RandomForestClassificationModel (uid=RandomForestClassifier_be54e7a9b10a) with 30 trees\n",
      "+-------+----------+-----+\n",
      "|Spoiled|prediction|count|\n",
      "+-------+----------+-----+\n",
      "|    1.0|       1.0|   26|\n",
      "|    1.0|       0.0|    1|\n",
      "|    0.0|       0.0|   61|\n",
      "+-------+----------+-----+\n",
      "\n",
      "Accuracy:  0.9885753531634802\n",
      "F1:  0.9885753531634802\n",
      "AUC:  0.9969641772920461\n",
      "\n",
      "GBTClassificationModel (uid=GBTClassifier_d2a03f3d691d) with 20 trees\n",
      "+-------+----------+-----+\n",
      "|Spoiled|prediction|count|\n",
      "+-------+----------+-----+\n",
      "|    1.0|       1.0|   26|\n",
      "|    0.0|       1.0|    1|\n",
      "|    1.0|       0.0|    1|\n",
      "|    0.0|       0.0|   60|\n",
      "+-------+----------+-----+\n",
      "\n",
      "Accuracy:  0.9772727272727273\n",
      "F1:  0.9772727272727273\n",
      "AUC:  0.9963570127504553\n",
      "\n"
     ]
    }
   ],
   "source": [
    "model_evaluator(test_cleaned)"
   ]
  },
  {
   "cell_type": "code",
   "execution_count": 35,
   "metadata": {},
   "outputs": [
    {
     "data": {
      "text/plain": [
       "['A', 'B', 'C', 'D']"
      ]
     },
     "execution_count": 35,
     "metadata": {},
     "output_type": "execute_result"
    }
   ],
   "source": [
    "vector_assembler.getInputCols()"
   ]
  },
  {
   "cell_type": "code",
   "execution_count": 32,
   "metadata": {},
   "outputs": [
    {
     "data": {
      "text/plain": [
       "SparseVector(4, {0: 0.0252, 1: 0.0313, 2: 0.9129, 3: 0.0306})"
      ]
     },
     "execution_count": 32,
     "metadata": {},
     "output_type": "execute_result"
    }
   ],
   "source": [
    "rf_classifier_model.featureImportances"
   ]
  },
  {
   "cell_type": "code",
   "execution_count": null,
   "metadata": {},
   "outputs": [],
   "source": []
  }
 ],
 "metadata": {
  "kernelspec": {
   "display_name": "Python 3",
   "language": "python",
   "name": "python3"
  },
  "language_info": {
   "codemirror_mode": {
    "name": "ipython",
    "version": 3
   },
   "file_extension": ".py",
   "mimetype": "text/x-python",
   "name": "python",
   "nbconvert_exporter": "python",
   "pygments_lexer": "ipython3",
   "version": "3.7.4"
  }
 },
 "nbformat": 4,
 "nbformat_minor": 2
}
