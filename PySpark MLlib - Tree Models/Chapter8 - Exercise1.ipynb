{
 "cells": [
  {
   "cell_type": "markdown",
   "metadata": {},
   "source": [
    "# EXCERCISE 1 - COLLEGE"
   ]
  },
  {
   "cell_type": "code",
   "execution_count": 1,
   "metadata": {},
   "outputs": [],
   "source": [
    "import findspark\n",
    "findspark.init()\n",
    "import pyspark\n",
    "from pyspark import SparkContext\n",
    "from pyspark.sql import SparkSession"
   ]
  },
  {
   "cell_type": "markdown",
   "metadata": {},
   "source": [
    "## Nhập dữ liệu"
   ]
  },
  {
   "cell_type": "code",
   "execution_count": 2,
   "metadata": {},
   "outputs": [],
   "source": [
    "sc= SparkContext(master= 'local', appName= 'Chapter 7 - Exercise1')\n",
    "ss= SparkSession(sc)"
   ]
  },
  {
   "cell_type": "code",
   "execution_count": 3,
   "metadata": {},
   "outputs": [],
   "source": [
    "path= '/Users/vovanthuong/Desktop/9 - Big Data in Machine Learning/Data/Chapter6/College.csv'\n",
    "df= ss.read.csv(path, header= True, inferSchema= True)"
   ]
  },
  {
   "cell_type": "markdown",
   "metadata": {},
   "source": [
    "## Kiểm tra dữ liệu"
   ]
  },
  {
   "cell_type": "code",
   "execution_count": 4,
   "metadata": {},
   "outputs": [
    {
     "name": "stdout",
     "output_type": "stream",
     "text": [
      "root\n",
      " |-- School: string (nullable = true)\n",
      " |-- Private: string (nullable = true)\n",
      " |-- Apps: integer (nullable = true)\n",
      " |-- Accept: integer (nullable = true)\n",
      " |-- Enroll: integer (nullable = true)\n",
      " |-- Top10perc: integer (nullable = true)\n",
      " |-- Top25perc: integer (nullable = true)\n",
      " |-- F_Undergrad: integer (nullable = true)\n",
      " |-- P_Undergrad: integer (nullable = true)\n",
      " |-- Outstate: integer (nullable = true)\n",
      " |-- Room_Board: integer (nullable = true)\n",
      " |-- Books: integer (nullable = true)\n",
      " |-- Personal: integer (nullable = true)\n",
      " |-- PhD: integer (nullable = true)\n",
      " |-- Terminal: integer (nullable = true)\n",
      " |-- S_F_Ratio: double (nullable = true)\n",
      " |-- perc_alumni: integer (nullable = true)\n",
      " |-- Expend: integer (nullable = true)\n",
      " |-- Grad_Rate: integer (nullable = true)\n",
      "\n"
     ]
    }
   ],
   "source": [
    "df.printSchema()"
   ]
  },
  {
   "cell_type": "markdown",
   "metadata": {},
   "source": [
    "- School: Tên trường: Loại bỏ\n",
    "- Private: Tư nhân -> biến outcomt. Mã hóa Yes/No -> 1/0\n",
    "- Apps: Số lượng đơn ứng tuyển\n",
    "- Accept: Số lượng trúng tuyển\n",
    "- Enroll: Số lượng sinh viên đến ghi danh\n",
    "- Top10perc: tỷ lệ sinh viên đến từ top 10% của trường THPT\n",
    "- Top20perc: tỷ lệ sinh viên đến từ top 20% của trường THPT\n",
    "- F_Undergrad: Số lượng sinh viên đại học toàn thời gian\n",
    "- P_Undergrad: Số lượng sinh viên đại học bán thời gian\n",
    "- Outstate: Học phí ngoài tiểu bang\n",
    "- Room_Board: Chi phí sinh hoạt chung\n",
    "- Books: Ước lượng chi phí sách\n",
    "- Personal: Ước lượng chi tiêu cá nhân\n",
    "- PhD: Tỷ lệ giảng viên là PhD\n",
    "- Terminal: Tỷ lệ giảng viên là terminal degree (bằng sau đại học nhưng không phải Master, PhD)\n",
    "- S_F_Ratio: Tỷ lệ sinh viên/giảng viên\n",
    "- perc_alumni: Tỷ lệ cự sinh viên quyên góp\n",
    "- Expend: Chi phí giảng giải trên mỗi sinh viên\n",
    "- Grad_Rate: Tỷ lệ tốt nghiệp"
   ]
  },
  {
   "cell_type": "code",
   "execution_count": 22,
   "metadata": {},
   "outputs": [
    {
     "data": {
      "text/html": [
       "<div>\n",
       "<style scoped>\n",
       "    .dataframe tbody tr th:only-of-type {\n",
       "        vertical-align: middle;\n",
       "    }\n",
       "\n",
       "    .dataframe tbody tr th {\n",
       "        vertical-align: top;\n",
       "    }\n",
       "\n",
       "    .dataframe thead th {\n",
       "        text-align: right;\n",
       "    }\n",
       "</style>\n",
       "<table border=\"1\" class=\"dataframe\">\n",
       "  <thead>\n",
       "    <tr style=\"text-align: right;\">\n",
       "      <th></th>\n",
       "      <th>0</th>\n",
       "    </tr>\n",
       "  </thead>\n",
       "  <tbody>\n",
       "    <tr>\n",
       "      <th>School_nan</th>\n",
       "      <td>0</td>\n",
       "    </tr>\n",
       "    <tr>\n",
       "      <th>Private_nan</th>\n",
       "      <td>0</td>\n",
       "    </tr>\n",
       "    <tr>\n",
       "      <th>Apps_nan</th>\n",
       "      <td>0</td>\n",
       "    </tr>\n",
       "    <tr>\n",
       "      <th>Accept_nan</th>\n",
       "      <td>0</td>\n",
       "    </tr>\n",
       "    <tr>\n",
       "      <th>Enroll_nan</th>\n",
       "      <td>0</td>\n",
       "    </tr>\n",
       "    <tr>\n",
       "      <th>Top10perc_nan</th>\n",
       "      <td>0</td>\n",
       "    </tr>\n",
       "    <tr>\n",
       "      <th>Top25perc_nan</th>\n",
       "      <td>0</td>\n",
       "    </tr>\n",
       "    <tr>\n",
       "      <th>F_Undergrad_nan</th>\n",
       "      <td>0</td>\n",
       "    </tr>\n",
       "    <tr>\n",
       "      <th>P_Undergrad_nan</th>\n",
       "      <td>0</td>\n",
       "    </tr>\n",
       "    <tr>\n",
       "      <th>Outstate_nan</th>\n",
       "      <td>0</td>\n",
       "    </tr>\n",
       "    <tr>\n",
       "      <th>Room_Board_nan</th>\n",
       "      <td>0</td>\n",
       "    </tr>\n",
       "    <tr>\n",
       "      <th>Books_nan</th>\n",
       "      <td>0</td>\n",
       "    </tr>\n",
       "    <tr>\n",
       "      <th>Personal_nan</th>\n",
       "      <td>0</td>\n",
       "    </tr>\n",
       "    <tr>\n",
       "      <th>PhD_nan</th>\n",
       "      <td>0</td>\n",
       "    </tr>\n",
       "    <tr>\n",
       "      <th>Terminal_nan</th>\n",
       "      <td>0</td>\n",
       "    </tr>\n",
       "    <tr>\n",
       "      <th>S_F_Ratio_nan</th>\n",
       "      <td>0</td>\n",
       "    </tr>\n",
       "    <tr>\n",
       "      <th>perc_alumni_nan</th>\n",
       "      <td>0</td>\n",
       "    </tr>\n",
       "    <tr>\n",
       "      <th>Expend_nan</th>\n",
       "      <td>0</td>\n",
       "    </tr>\n",
       "    <tr>\n",
       "      <th>Grad_Rate_nan</th>\n",
       "      <td>0</td>\n",
       "    </tr>\n",
       "  </tbody>\n",
       "</table>\n",
       "</div>"
      ],
      "text/plain": [
       "                 0\n",
       "School_nan       0\n",
       "Private_nan      0\n",
       "Apps_nan         0\n",
       "Accept_nan       0\n",
       "Enroll_nan       0\n",
       "Top10perc_nan    0\n",
       "Top25perc_nan    0\n",
       "F_Undergrad_nan  0\n",
       "P_Undergrad_nan  0\n",
       "Outstate_nan     0\n",
       "Room_Board_nan   0\n",
       "Books_nan        0\n",
       "Personal_nan     0\n",
       "PhD_nan          0\n",
       "Terminal_nan     0\n",
       "S_F_Ratio_nan    0\n",
       "perc_alumni_nan  0\n",
       "Expend_nan       0\n",
       "Grad_Rate_nan    0"
      ]
     },
     "execution_count": 22,
     "metadata": {},
     "output_type": "execute_result"
    }
   ],
   "source": [
    "from pyspark.sql.functions import count, when, isnan, isnull, col\n",
    "nan_data= df.select([count(when(isnan(c), c)).alias(c + '_nan') for c in df.columns]).toPandas().T\n",
    "nan_data"
   ]
  },
  {
   "cell_type": "code",
   "execution_count": 23,
   "metadata": {},
   "outputs": [
    {
     "data": {
      "text/html": [
       "<div>\n",
       "<style scoped>\n",
       "    .dataframe tbody tr th:only-of-type {\n",
       "        vertical-align: middle;\n",
       "    }\n",
       "\n",
       "    .dataframe tbody tr th {\n",
       "        vertical-align: top;\n",
       "    }\n",
       "\n",
       "    .dataframe thead th {\n",
       "        text-align: right;\n",
       "    }\n",
       "</style>\n",
       "<table border=\"1\" class=\"dataframe\">\n",
       "  <thead>\n",
       "    <tr style=\"text-align: right;\">\n",
       "      <th></th>\n",
       "      <th>0</th>\n",
       "    </tr>\n",
       "  </thead>\n",
       "  <tbody>\n",
       "    <tr>\n",
       "      <th>School_null</th>\n",
       "      <td>0</td>\n",
       "    </tr>\n",
       "    <tr>\n",
       "      <th>Private_null</th>\n",
       "      <td>0</td>\n",
       "    </tr>\n",
       "    <tr>\n",
       "      <th>Apps_null</th>\n",
       "      <td>0</td>\n",
       "    </tr>\n",
       "    <tr>\n",
       "      <th>Accept_null</th>\n",
       "      <td>0</td>\n",
       "    </tr>\n",
       "    <tr>\n",
       "      <th>Enroll_null</th>\n",
       "      <td>0</td>\n",
       "    </tr>\n",
       "    <tr>\n",
       "      <th>Top10perc_null</th>\n",
       "      <td>0</td>\n",
       "    </tr>\n",
       "    <tr>\n",
       "      <th>Top25perc_null</th>\n",
       "      <td>0</td>\n",
       "    </tr>\n",
       "    <tr>\n",
       "      <th>F_Undergrad_null</th>\n",
       "      <td>0</td>\n",
       "    </tr>\n",
       "    <tr>\n",
       "      <th>P_Undergrad_null</th>\n",
       "      <td>0</td>\n",
       "    </tr>\n",
       "    <tr>\n",
       "      <th>Outstate_null</th>\n",
       "      <td>0</td>\n",
       "    </tr>\n",
       "    <tr>\n",
       "      <th>Room_Board_null</th>\n",
       "      <td>0</td>\n",
       "    </tr>\n",
       "    <tr>\n",
       "      <th>Books_null</th>\n",
       "      <td>0</td>\n",
       "    </tr>\n",
       "    <tr>\n",
       "      <th>Personal_null</th>\n",
       "      <td>0</td>\n",
       "    </tr>\n",
       "    <tr>\n",
       "      <th>PhD_null</th>\n",
       "      <td>0</td>\n",
       "    </tr>\n",
       "    <tr>\n",
       "      <th>Terminal_null</th>\n",
       "      <td>0</td>\n",
       "    </tr>\n",
       "    <tr>\n",
       "      <th>S_F_Ratio_null</th>\n",
       "      <td>0</td>\n",
       "    </tr>\n",
       "    <tr>\n",
       "      <th>perc_alumni_null</th>\n",
       "      <td>0</td>\n",
       "    </tr>\n",
       "    <tr>\n",
       "      <th>Expend_null</th>\n",
       "      <td>0</td>\n",
       "    </tr>\n",
       "    <tr>\n",
       "      <th>Grad_Rate_null</th>\n",
       "      <td>0</td>\n",
       "    </tr>\n",
       "  </tbody>\n",
       "</table>\n",
       "</div>"
      ],
      "text/plain": [
       "                  0\n",
       "School_null       0\n",
       "Private_null      0\n",
       "Apps_null         0\n",
       "Accept_null       0\n",
       "Enroll_null       0\n",
       "Top10perc_null    0\n",
       "Top25perc_null    0\n",
       "F_Undergrad_null  0\n",
       "P_Undergrad_null  0\n",
       "Outstate_null     0\n",
       "Room_Board_null   0\n",
       "Books_null        0\n",
       "Personal_null     0\n",
       "PhD_null          0\n",
       "Terminal_null     0\n",
       "S_F_Ratio_null    0\n",
       "perc_alumni_null  0\n",
       "Expend_null       0\n",
       "Grad_Rate_null    0"
      ]
     },
     "execution_count": 23,
     "metadata": {},
     "output_type": "execute_result"
    }
   ],
   "source": [
    "null_data= df.select([count(when(isnull(c), c)).alias(c + '_null') for c in df.columns]).toPandas().T\n",
    "null_data"
   ]
  },
  {
   "cell_type": "markdown",
   "metadata": {},
   "source": [
    "## Tách tập train và test"
   ]
  },
  {
   "cell_type": "code",
   "execution_count": 17,
   "metadata": {},
   "outputs": [],
   "source": [
    "train, test= df.randomSplit([0.8, 0.2])"
   ]
  },
  {
   "cell_type": "markdown",
   "metadata": {},
   "source": [
    "## Tạo Pipe xử lý dữ liệu"
   ]
  },
  {
   "cell_type": "code",
   "execution_count": 18,
   "metadata": {},
   "outputs": [],
   "source": [
    "from pyspark.ml.feature import StringIndexer, VectorAssembler\n",
    "from pyspark.ml import Pipeline"
   ]
  },
  {
   "cell_type": "code",
   "execution_count": 16,
   "metadata": {},
   "outputs": [],
   "source": [
    "private_idxer= StringIndexer(inputCol= 'Private', outputCol= 'label')"
   ]
  },
  {
   "cell_type": "code",
   "execution_count": 20,
   "metadata": {},
   "outputs": [],
   "source": [
    "input_cols= ['Apps', 'Accept', 'Enroll', 'Top10perc', 'Top25perc', 'F_Undergrad', 'P_Undergrad', 'Outstate', 'Room_Board', 'Books', 'Personal', 'PhD', 'Terminal', 'S_F_Ratio', 'perc_alumni', 'Expend', 'Grad_Rate']\n",
    "vector_assembler= VectorAssembler(inputCols= input_cols, outputCol= 'features')"
   ]
  },
  {
   "cell_type": "code",
   "execution_count": 21,
   "metadata": {},
   "outputs": [],
   "source": [
    "pipe_process= Pipeline(stages=[private_idxer, vector_assembler])\n",
    "process_model= pipe_process.fit(train)"
   ]
  },
  {
   "cell_type": "markdown",
   "metadata": {},
   "source": [
    "## Tạo mô hình"
   ]
  },
  {
   "cell_type": "code",
   "execution_count": 24,
   "metadata": {},
   "outputs": [],
   "source": [
    "from pyspark.ml.classification import DecisionTreeClassifier, RandomForestClassifier, GBTClassifier"
   ]
  },
  {
   "cell_type": "code",
   "execution_count": 26,
   "metadata": {},
   "outputs": [],
   "source": [
    "train_cleaned= process_model.transform(train)"
   ]
  },
  {
   "cell_type": "code",
   "execution_count": 55,
   "metadata": {},
   "outputs": [],
   "source": [
    "# DecisionTreeClassifier\n",
    "dt_classifier= DecisionTreeClassifier(featuresCol= 'features')\n",
    "dt_classifier_model= dt_classifier.fit(train_cleaned)\n",
    "\n",
    "# RandomForestClassifier\n",
    "rf_classifier= RandomForestClassifier(featuresCol= 'features', numTrees= 30)\n",
    "rf_classifier_model= rf_classifier.fit(train_cleaned)\n",
    "\n",
    "# GBTClassifier\n",
    "gbt_classifier= GBTClassifier(featuresCol= 'features')\n",
    "gbt_classifier_model= gbt_classifier.fit(train_cleaned)"
   ]
  },
  {
   "cell_type": "markdown",
   "metadata": {},
   "source": [
    "## Đánh giá mô hình"
   ]
  },
  {
   "cell_type": "code",
   "execution_count": 61,
   "metadata": {},
   "outputs": [],
   "source": [
    "def model_evaluator(data):\n",
    "    from pyspark.ml.evaluation import MulticlassClassificationEvaluator, BinaryClassificationEvaluator\n",
    "    mutil_classification_evaluator= MulticlassClassificationEvaluator(labelCol= 'label')\n",
    "    accuracy= mutil_classification_evaluator.setMetricName('accuracy')\n",
    "    f1= mutil_classification_evaluator.setMetricName('f1')\n",
    "    bi_classification_evaluator= BinaryClassificationEvaluator(labelCol= 'label')\n",
    "    auc= bi_classification_evaluator.setMetricName('areaUnderROC')\n",
    "    for model in [dt_classifier_model, rf_classifier_model, gbt_classifier_model]:\n",
    "        print(model)\n",
    "        data_result= model.transform(data)\n",
    "        data_result.groupBy('label', 'prediction').count().show()\n",
    "        print('Accuracy: ', accuracy.evaluate(data_result))\n",
    "        print('F1: ', f1.evaluate(data_result))\n",
    "        print('AUC: ', auc.evaluate(data_result))\n",
    "        print()"
   ]
  },
  {
   "cell_type": "markdown",
   "metadata": {},
   "source": [
    "### Đánh giá trên tập train"
   ]
  },
  {
   "cell_type": "code",
   "execution_count": 62,
   "metadata": {},
   "outputs": [
    {
     "name": "stdout",
     "output_type": "stream",
     "text": [
      "DecisionTreeClassificationModel (uid=DecisionTreeClassifier_2066926f75a2) of depth 5 with 39 nodes\n",
      "+-----+----------+-----+\n",
      "|label|prediction|count|\n",
      "+-----+----------+-----+\n",
      "|  1.0|       1.0|  169|\n",
      "|  0.0|       1.0|    9|\n",
      "|  1.0|       0.0|    8|\n",
      "|  0.0|       0.0|  452|\n",
      "+-----+----------+-----+\n",
      "\n",
      "Accuracy:  0.973377295553552\n",
      "F1:  0.973377295553552\n",
      "AUC:  0.9794661568440016\n",
      "\n",
      "RandomForestClassificationModel (uid=RandomForestClassifier_f693f14388a6) with 30 trees\n",
      "+-----+----------+-----+\n",
      "|label|prediction|count|\n",
      "+-----+----------+-----+\n",
      "|  1.0|       1.0|  164|\n",
      "|  0.0|       1.0|    2|\n",
      "|  1.0|       0.0|   13|\n",
      "|  0.0|       0.0|  459|\n",
      "+-----+----------+-----+\n",
      "\n",
      "Accuracy:  0.9762506264199967\n",
      "F1:  0.9762506264199967\n",
      "AUC:  0.9959802443717294\n",
      "\n",
      "GBTClassificationModel (uid=GBTClassifier_1ccd8d12170a) with 20 trees\n",
      "+-----+----------+-----+\n",
      "|label|prediction|count|\n",
      "+-----+----------+-----+\n",
      "|  1.0|       1.0|  177|\n",
      "|  0.0|       1.0|    1|\n",
      "|  0.0|       0.0|  460|\n",
      "+-----+----------+-----+\n",
      "\n",
      "Accuracy:  0.9984339585619737\n",
      "F1:  0.9984339585619737\n",
      "AUC:  1.0\n",
      "\n"
     ]
    }
   ],
   "source": [
    "model_evaluator(train_cleaned)"
   ]
  },
  {
   "cell_type": "markdown",
   "metadata": {},
   "source": [
    "### Đánh giá trên tập test"
   ]
  },
  {
   "cell_type": "code",
   "execution_count": 37,
   "metadata": {},
   "outputs": [],
   "source": [
    "test_cleaned= process_model.transform(test)"
   ]
  },
  {
   "cell_type": "code",
   "execution_count": 63,
   "metadata": {},
   "outputs": [
    {
     "name": "stdout",
     "output_type": "stream",
     "text": [
      "DecisionTreeClassificationModel (uid=DecisionTreeClassifier_2066926f75a2) of depth 5 with 39 nodes\n",
      "+-----+----------+-----+\n",
      "|label|prediction|count|\n",
      "+-----+----------+-----+\n",
      "|  1.0|       1.0|   29|\n",
      "|  0.0|       1.0|    5|\n",
      "|  1.0|       0.0|    6|\n",
      "|  0.0|       0.0|   99|\n",
      "+-----+----------+-----+\n",
      "\n",
      "Accuracy:  0.9204791772988932\n",
      "F1:  0.9204791772988932\n",
      "AUC:  0.9703296703296703\n",
      "\n",
      "RandomForestClassificationModel (uid=RandomForestClassifier_f693f14388a6) with 30 trees\n",
      "+-----+----------+-----+\n",
      "|label|prediction|count|\n",
      "+-----+----------+-----+\n",
      "|  1.0|       1.0|   31|\n",
      "|  0.0|       1.0|    2|\n",
      "|  1.0|       0.0|    4|\n",
      "|  0.0|       0.0|  102|\n",
      "+-----+----------+-----+\n",
      "\n",
      "Accuracy:  0.9564052959313221\n",
      "F1:  0.9564052959313221\n",
      "AUC:  0.9945054945054945\n",
      "\n",
      "GBTClassificationModel (uid=GBTClassifier_1ccd8d12170a) with 20 trees\n",
      "+-----+----------+-----+\n",
      "|label|prediction|count|\n",
      "+-----+----------+-----+\n",
      "|  1.0|       1.0|   29|\n",
      "|  0.0|       1.0|    4|\n",
      "|  1.0|       0.0|    6|\n",
      "|  0.0|       0.0|  100|\n",
      "+-----+----------+-----+\n",
      "\n",
      "Accuracy:  0.9273421598855369\n",
      "F1:  0.9273421598855369\n",
      "AUC:  0.9804945054945056\n",
      "\n"
     ]
    }
   ],
   "source": [
    "model_evaluator(test_cleaned)"
   ]
  },
  {
   "cell_type": "code",
   "execution_count": null,
   "metadata": {},
   "outputs": [],
   "source": []
  }
 ],
 "metadata": {
  "kernelspec": {
   "display_name": "Python 3",
   "language": "python",
   "name": "python3"
  },
  "language_info": {
   "codemirror_mode": {
    "name": "ipython",
    "version": 3
   },
   "file_extension": ".py",
   "mimetype": "text/x-python",
   "name": "python",
   "nbconvert_exporter": "python",
   "pygments_lexer": "ipython3",
   "version": "3.7.4"
  }
 },
 "nbformat": 4,
 "nbformat_minor": 2
}
