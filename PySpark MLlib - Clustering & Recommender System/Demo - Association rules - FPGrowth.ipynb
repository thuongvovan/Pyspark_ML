{
 "cells": [
  {
   "cell_type": "markdown",
   "metadata": {},
   "source": [
    "# ASSOCIATION RULES - FPGROWTH"
   ]
  },
  {
   "cell_type": "code",
   "execution_count": 1,
   "metadata": {},
   "outputs": [],
   "source": [
    "import findspark\n",
    "findspark.init()\n",
    "import pyspark\n",
    "from pyspark import SparkContext\n",
    "from pyspark.sql import SparkSession"
   ]
  },
  {
   "cell_type": "code",
   "execution_count": 2,
   "metadata": {},
   "outputs": [],
   "source": [
    "ss = SparkSession\\\n",
    "        .builder\\\n",
    "        .appName(\"FPGrowthExample\")\\\n",
    "        .getOrCreate()"
   ]
  },
  {
   "cell_type": "code",
   "execution_count": 16,
   "metadata": {},
   "outputs": [],
   "source": [
    "df = spark.createDataFrame([\n",
    "        (0, [1, 2, 5]),\n",
    "        (1, [1, 2, 3, 5]),\n",
    "        (2, [1, 2]),\n",
    "        (3, [1, 2, 4, 5]),\n",
    "        (4, [1, 3, 6])],\n",
    "        [\"id\", \"items\"])"
   ]
  },
  {
   "cell_type": "code",
   "execution_count": 17,
   "metadata": {},
   "outputs": [],
   "source": [
    "from pyspark.ml.fpm import FPGrowth\n",
    "fpGrowth = FPGrowth(itemsCol=\"items\", minSupport=0, minConfidence=0)\n",
    "model = fpGrowth.fit(df)"
   ]
  },
  {
   "cell_type": "code",
   "execution_count": 18,
   "metadata": {},
   "outputs": [
    {
     "name": "stdout",
     "output_type": "stream",
     "text": [
      "+------------+----+\n",
      "|       items|freq|\n",
      "+------------+----+\n",
      "|         [4]|   1|\n",
      "|      [4, 5]|   1|\n",
      "|   [4, 5, 2]|   1|\n",
      "|[4, 5, 2, 1]|   1|\n",
      "|   [4, 5, 1]|   1|\n",
      "|      [4, 2]|   1|\n",
      "|   [4, 2, 1]|   1|\n",
      "|      [4, 1]|   1|\n",
      "|         [1]|   5|\n",
      "|         [6]|   1|\n",
      "|      [6, 3]|   1|\n",
      "|   [6, 3, 1]|   1|\n",
      "|      [6, 1]|   1|\n",
      "|         [2]|   4|\n",
      "|      [2, 1]|   4|\n",
      "|         [5]|   3|\n",
      "|      [5, 2]|   3|\n",
      "|   [5, 2, 1]|   3|\n",
      "|      [5, 1]|   3|\n",
      "|         [3]|   2|\n",
      "+------------+----+\n",
      "only showing top 20 rows\n",
      "\n"
     ]
    }
   ],
   "source": [
    "model.freqItemsets.show()"
   ]
  },
  {
   "cell_type": "code",
   "execution_count": 19,
   "metadata": {},
   "outputs": [
    {
     "name": "stdout",
     "output_type": "stream",
     "text": [
      "+----------+----------+------------------+------------------+\n",
      "|antecedent|consequent|        confidence|              lift|\n",
      "+----------+----------+------------------+------------------+\n",
      "|    [3, 1]|       [6]|               0.5|               2.5|\n",
      "|    [3, 1]|       [5]|               0.5|0.8333333333333334|\n",
      "|    [3, 1]|       [2]|               0.5|             0.625|\n",
      "|    [4, 2]|       [5]|               1.0|1.6666666666666667|\n",
      "|    [4, 2]|       [1]|               1.0|               1.0|\n",
      "| [4, 5, 1]|       [2]|               1.0|              1.25|\n",
      "| [4, 2, 1]|       [5]|               1.0|1.6666666666666667|\n",
      "|       [3]|       [6]|               0.5|               2.5|\n",
      "|       [3]|       [5]|               0.5|0.8333333333333334|\n",
      "|       [3]|       [2]|               0.5|             0.625|\n",
      "|       [3]|       [1]|               1.0|               1.0|\n",
      "|    [5, 2]|       [4]|0.3333333333333333|1.6666666666666665|\n",
      "|    [5, 2]|       [1]|               1.0|               1.0|\n",
      "|    [5, 2]|       [3]|0.3333333333333333|0.8333333333333333|\n",
      "|       [4]|       [5]|               1.0|1.6666666666666667|\n",
      "|       [4]|       [2]|               1.0|              1.25|\n",
      "|       [4]|       [1]|               1.0|               1.0|\n",
      "|       [2]|       [4]|              0.25|              1.25|\n",
      "|       [2]|       [1]|               1.0|               1.0|\n",
      "|       [2]|       [5]|              0.75|              1.25|\n",
      "+----------+----------+------------------+------------------+\n",
      "only showing top 20 rows\n",
      "\n"
     ]
    }
   ],
   "source": [
    "model.associationRules.show()"
   ]
  },
  {
   "cell_type": "code",
   "execution_count": 20,
   "metadata": {},
   "outputs": [
    {
     "name": "stdout",
     "output_type": "stream",
     "text": [
      "+---+------------+------------+\n",
      "| id|       items|  prediction|\n",
      "+---+------------+------------+\n",
      "|  0|   [1, 2, 5]|   [4, 3, 6]|\n",
      "|  1|[1, 2, 3, 5]|      [6, 4]|\n",
      "|  2|      [1, 2]|[4, 5, 3, 6]|\n",
      "|  3|[1, 2, 4, 5]|      [3, 6]|\n",
      "|  4|   [1, 3, 6]|   [5, 2, 4]|\n",
      "+---+------------+------------+\n",
      "\n"
     ]
    }
   ],
   "source": [
    "model.transform(df).show()"
   ]
  }
 ],
 "metadata": {
  "kernelspec": {
   "display_name": "Python 3",
   "language": "python",
   "name": "python3"
  },
  "language_info": {
   "codemirror_mode": {
    "name": "ipython",
    "version": 3
   },
   "file_extension": ".py",
   "mimetype": "text/x-python",
   "name": "python",
   "nbconvert_exporter": "python",
   "pygments_lexer": "ipython3",
   "version": "3.7.4"
  }
 },
 "nbformat": 4,
 "nbformat_minor": 2
}
