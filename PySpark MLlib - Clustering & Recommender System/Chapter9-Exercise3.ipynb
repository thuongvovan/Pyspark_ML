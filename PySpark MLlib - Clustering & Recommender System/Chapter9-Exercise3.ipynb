{
 "cells": [
  {
   "cell_type": "markdown",
   "metadata": {},
   "source": [
    "# CHAPTER 9 - EXERCISE 3: MUSICAL INSTRUMENTS"
   ]
  },
  {
   "cell_type": "code",
   "execution_count": 1,
   "metadata": {},
   "outputs": [],
   "source": [
    "import findspark\n",
    "findspark.init()\n",
    "from pyspark import SparkContext\n",
    "from pyspark.sql import SparkSession"
   ]
  },
  {
   "cell_type": "markdown",
   "metadata": {},
   "source": [
    "## Nhập dữ liệu"
   ]
  },
  {
   "cell_type": "code",
   "execution_count": 2,
   "metadata": {},
   "outputs": [],
   "source": [
    "sc= SparkContext(master= 'local', appName= 'Chapter 9 - Exercise 3')\n",
    "ss= SparkSession(sc)"
   ]
  },
  {
   "cell_type": "code",
   "execution_count": 7,
   "metadata": {},
   "outputs": [],
   "source": [
    "path= '/Users/vovanthuong/Desktop/9 - Big Data in Machine Learning/Data/Chapter9/LDS9_Data_Day_7/Musical_Instruments_5.json'\n",
    "df= ss.read.json(path)"
   ]
  },
  {
   "cell_type": "code",
   "execution_count": 9,
   "metadata": {},
   "outputs": [
    {
     "name": "stdout",
     "output_type": "stream",
     "text": [
      "root\n",
      " |-- asin: string (nullable = true)\n",
      " |-- helpful: array (nullable = true)\n",
      " |    |-- element: long (containsNull = true)\n",
      " |-- overall: double (nullable = true)\n",
      " |-- reviewText: string (nullable = true)\n",
      " |-- reviewTime: string (nullable = true)\n",
      " |-- reviewerID: string (nullable = true)\n",
      " |-- reviewerName: string (nullable = true)\n",
      " |-- summary: string (nullable = true)\n",
      " |-- unixReviewTime: long (nullable = true)\n",
      "\n"
     ]
    }
   ],
   "source": [
    "df.printSchema()"
   ]
  },
  {
   "cell_type": "code",
   "execution_count": 8,
   "metadata": {},
   "outputs": [
    {
     "name": "stdout",
     "output_type": "stream",
     "text": [
      "+----------+--------+-------+--------------------+-----------+--------------+--------------------+--------------------+--------------+\n",
      "|      asin| helpful|overall|          reviewText| reviewTime|    reviewerID|        reviewerName|             summary|unixReviewTime|\n",
      "+----------+--------+-------+--------------------+-----------+--------------+--------------------+--------------------+--------------+\n",
      "|1384719342|  [0, 0]|    5.0|Not much to write...|02 28, 2014|A2IBPI20UZIR0U|cassandra tu \"Yea...|                good|    1393545600|\n",
      "|1384719342|[13, 14]|    5.0|The product does ...|03 16, 2013|A14VAT5EAX3D9S|                Jake|                Jake|    1363392000|\n",
      "|1384719342|  [1, 1]|    5.0|The primary job o...|08 28, 2013|A195EZSQDW3E21|Rick Bennette \"Ri...|It Does The Job Well|    1377648000|\n",
      "+----------+--------+-------+--------------------+-----------+--------------+--------------------+--------------------+--------------+\n",
      "only showing top 3 rows\n",
      "\n"
     ]
    }
   ],
   "source": [
    "df.show(3)"
   ]
  },
  {
   "cell_type": "code",
   "execution_count": 10,
   "metadata": {},
   "outputs": [
    {
     "data": {
      "text/plain": [
       "10261"
      ]
     },
     "execution_count": 10,
     "metadata": {},
     "output_type": "execute_result"
    }
   ],
   "source": [
    "# Số lượng review\n",
    "df.count()"
   ]
  },
  {
   "cell_type": "code",
   "execution_count": 12,
   "metadata": {},
   "outputs": [
    {
     "data": {
      "text/plain": [
       "900"
      ]
     },
     "execution_count": 12,
     "metadata": {},
     "output_type": "execute_result"
    }
   ],
   "source": [
    "# Số lượng item\n",
    "df.select('asin').distinct().count()"
   ]
  },
  {
   "cell_type": "code",
   "execution_count": 13,
   "metadata": {},
   "outputs": [
    {
     "data": {
      "text/plain": [
       "1429"
      ]
     },
     "execution_count": 13,
     "metadata": {},
     "output_type": "execute_result"
    }
   ],
   "source": [
    "# Số lượng user\n",
    "df.select('reviewerID').distinct().count()"
   ]
  },
  {
   "cell_type": "markdown",
   "metadata": {},
   "source": [
    "## Tạo tập train và test"
   ]
  },
  {
   "cell_type": "code",
   "execution_count": 14,
   "metadata": {},
   "outputs": [],
   "source": [
    "train, test= df.randomSplit([0.8, 0.2])"
   ]
  },
  {
   "cell_type": "markdown",
   "metadata": {},
   "source": [
    "## Xây dựng mô hình"
   ]
  },
  {
   "cell_type": "code",
   "execution_count": 133,
   "metadata": {},
   "outputs": [],
   "source": [
    "from pyspark.ml.feature import SQLTransformer, StringIndexer\n",
    "from pyspark.ml.recommendation import ALS\n",
    "from pyspark.ml import Pipeline\n",
    "\n",
    "# 1\n",
    "select= SQLTransformer(statement= 'SELECT asin, reviewerID, overall FROM __THIS__')\n",
    "# 2\n",
    "asin_laber_to_indexer= StringIndexer(inputCol= 'asin', outputCol= 'asin_idx')\n",
    "# 3\n",
    "reviewerID_laber_to_indexer= StringIndexer(inputCol= 'reviewerID', outputCol= 'reviewerID_idx')\n",
    "# 4\n",
    "als= ALS(maxIter= 25, regParam= 0.05,\n",
    "         userCol= 'reviewerID_idx', itemCol= 'asin_idx', ratingCol= 'overall')\n",
    "# Pipe\n",
    "pipe_als= Pipeline(stages= [select, asin_laber_to_indexer, reviewerID_laber_to_indexer, als])"
   ]
  },
  {
   "cell_type": "code",
   "execution_count": 134,
   "metadata": {},
   "outputs": [],
   "source": [
    "pipe_als_model= pipe_als.fit(train)"
   ]
  },
  {
   "cell_type": "markdown",
   "metadata": {},
   "source": [
    "## Đánh giá kết quả của mô hình"
   ]
  },
  {
   "cell_type": "code",
   "execution_count": 135,
   "metadata": {},
   "outputs": [],
   "source": [
    "from pyspark.ml.evaluation import RegressionEvaluator\n",
    "evaluator= RegressionEvaluator(labelCol= 'overall', predictionCol= 'prediction',metricName= 'rmse')"
   ]
  },
  {
   "cell_type": "markdown",
   "metadata": {},
   "source": [
    "### Trên tập train"
   ]
  },
  {
   "cell_type": "code",
   "execution_count": 136,
   "metadata": {},
   "outputs": [
    {
     "data": {
      "text/plain": [
       "0.0923985878743525"
      ]
     },
     "execution_count": 136,
     "metadata": {},
     "output_type": "execute_result"
    }
   ],
   "source": [
    "train_result= pipe_als_model.transform(train)\n",
    "evaluator.evaluate(train_result)"
   ]
  },
  {
   "cell_type": "markdown",
   "metadata": {},
   "source": [
    "### Trên tập test"
   ]
  },
  {
   "cell_type": "code",
   "execution_count": 137,
   "metadata": {},
   "outputs": [
    {
     "data": {
      "text/plain": [
       "1.1790525368814895"
      ]
     },
     "execution_count": 137,
     "metadata": {},
     "output_type": "execute_result"
    }
   ],
   "source": [
    "test_result= pipe_als_model.transform(test)\n",
    "evaluator.evaluate(test_result)"
   ]
  },
  {
   "cell_type": "markdown",
   "metadata": {},
   "source": [
    "## Recomment cho toàn bộ user"
   ]
  },
  {
   "cell_type": "code",
   "execution_count": 147,
   "metadata": {},
   "outputs": [],
   "source": [
    "recomment_for_all= pipe_als_model.stages[3].recommendForAllUsers(numItems= 10)"
   ]
  },
  {
   "cell_type": "markdown",
   "metadata": {},
   "source": [
    "## Recomment cho 1 user"
   ]
  },
  {
   "cell_type": "code",
   "execution_count": 176,
   "metadata": {},
   "outputs": [],
   "source": [
    "# Cách 1: Chuyển reviewerID_idx thành reviewerID\n",
    "from pyspark.ml.feature import IndexToString\n",
    "from pyspark.sql.functions import posexplode, col\n",
    "\n",
    "reviewerID_indexer_to_label = IndexToString(inputCol=\"reviewerID_idx\", \n",
    "                                            outputCol=\"reviewerID\", \n",
    "                                            labels= pipe_als_model.stages[2].labels)\n",
    "\n",
    "def recommend_for_user(als_model, reviewerID, numItems):\n",
    "    # Đề xuất một số lượng item cao nhất cho tất cả user\n",
    "    data= als_model.recommendForAllUsers(numItems= numItems)\n",
    "    # Chuyển từ reviewerID_idx lại reviewerID\n",
    "    data= reviewerID_indexer_to_label.transform(data)\n",
    "    # Lọc lại user quan tâm\n",
    "    data= data.where(data.reviewerID == reviewerID)\n",
    "    # Chuyển đổi dữ liệu\n",
    "    data= data.select('reviewerID', 'reviewerID_idx',\n",
    "                      posexplode(\"recommendations\").alias('No', 'recommendations'))\n",
    "    data= data.select('reviewerID', 'reviewerID_idx', 'No',\n",
    "                      (col('recommendations')['asin_idx']).alias('asin_idx'),\n",
    "                      (col('recommendations')['rating']).alias('rating'))\n",
    "    return data"
   ]
  },
  {
   "cell_type": "code",
   "execution_count": 175,
   "metadata": {},
   "outputs": [
    {
     "name": "stdout",
     "output_type": "stream",
     "text": [
      "+--------------+--------------+---+--------+---------+\n",
      "|    reviewerID|reviewerID_idx| No|asin_idx|   rating|\n",
      "+--------------+--------------+---+--------+---------+\n",
      "|A2IBPI20UZIR0U|            81|  0|     433|5.7016926|\n",
      "|A2IBPI20UZIR0U|            81|  1|     401| 5.538135|\n",
      "|A2IBPI20UZIR0U|            81|  2|     124|5.4247503|\n",
      "|A2IBPI20UZIR0U|            81|  3|     273|  5.42354|\n",
      "|A2IBPI20UZIR0U|            81|  4|     161|5.4059787|\n",
      "+--------------+--------------+---+--------+---------+\n",
      "\n"
     ]
    }
   ],
   "source": [
    "recommend_for_user(als_model= pipe_als_model.stages[-1], \n",
    "                   reviewerID= 'A2IBPI20UZIR0U', numItems= 5).show()"
   ]
  },
  {
   "cell_type": "code",
   "execution_count": 220,
   "metadata": {},
   "outputs": [],
   "source": [
    "# Cách 2: Chuyển reviewerID thành reviewerID_idx\n",
    "from pyspark.ml.feature import IndexToString\n",
    "from pyspark.sql.functions import posexplode, col\n",
    "\n",
    "reviewerID_indexer_to_label = IndexToString(inputCol=\"reviewerID_idx\", \n",
    "                                            outputCol=\"reviewerID\", \n",
    "                                            labels= pipe_als_model.stages[2].labels)\n",
    "\n",
    "def recommend_for_user(als_model, reviewerID, numItems):\n",
    "    # Chuyển reviewerID thành reviewerID_idx\n",
    "    reviewerID= ss.createDataFrame([(reviewerID,)], ['reviewerID', ])\n",
    "    reviewerID= pipe_als_model.stages[2].transform(reviewerID)\n",
    "    reviewerID_idx= reviewerID.select('reviewerID_idx').rdd.flatMap(lambda x: x).collect()[0]\n",
    "    # Đề xuất một số lượng item cao nhất cho tất cả user\n",
    "    data= als_model.recommendForAllUsers(numItems= numItems)\n",
    "    # Lọc lại user quan tâm\n",
    "    data= data.where(data.reviewerID_idx == reviewerID_idx)\n",
    "    # Đưa cột reviewerID vào data\n",
    "    data= data.join(reviewerID, on=['reviewerID_idx'], how='inner')\n",
    "    # Chuyển đổi dữ liệu\n",
    "    data= data.select('reviewerID', 'reviewerID_idx',\n",
    "                      posexplode(\"recommendations\").alias('No', 'recommendations'))\n",
    "    data= data.select('reviewerID', 'reviewerID_idx', 'No',\n",
    "                      (col('recommendations')['asin_idx']).alias('asin_idx'),\n",
    "                      (col('recommendations')['rating']).alias('rating'))\n",
    "    return data"
   ]
  },
  {
   "cell_type": "code",
   "execution_count": 221,
   "metadata": {},
   "outputs": [
    {
     "name": "stdout",
     "output_type": "stream",
     "text": [
      "+--------------+--------------+---+--------+---------+\n",
      "|    reviewerID|reviewerID_idx| No|asin_idx|   rating|\n",
      "+--------------+--------------+---+--------+---------+\n",
      "|A2IBPI20UZIR0U|            81|  0|     433|5.7016926|\n",
      "|A2IBPI20UZIR0U|            81|  1|     401| 5.538135|\n",
      "|A2IBPI20UZIR0U|            81|  2|     124|5.4247503|\n",
      "|A2IBPI20UZIR0U|            81|  3|     273|  5.42354|\n",
      "|A2IBPI20UZIR0U|            81|  4|     161|5.4059787|\n",
      "+--------------+--------------+---+--------+---------+\n",
      "\n"
     ]
    }
   ],
   "source": [
    "recommend_for_user(als_model= pipe_als_model.stages[-1], \n",
    "                   reviewerID= 'A2IBPI20UZIR0U', numItems= 5).show()"
   ]
  },
  {
   "cell_type": "code",
   "execution_count": null,
   "metadata": {},
   "outputs": [],
   "source": []
  }
 ],
 "metadata": {
  "kernelspec": {
   "display_name": "Python 3",
   "language": "python",
   "name": "python3"
  },
  "language_info": {
   "codemirror_mode": {
    "name": "ipython",
    "version": 3
   },
   "file_extension": ".py",
   "mimetype": "text/x-python",
   "name": "python",
   "nbconvert_exporter": "python",
   "pygments_lexer": "ipython3",
   "version": "3.7.4"
  }
 },
 "nbformat": 4,
 "nbformat_minor": 2
}
