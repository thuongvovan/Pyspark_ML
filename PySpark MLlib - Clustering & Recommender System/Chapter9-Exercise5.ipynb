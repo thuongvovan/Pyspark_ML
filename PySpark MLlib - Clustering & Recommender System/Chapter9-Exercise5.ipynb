{
 "cells": [
  {
   "cell_type": "markdown",
   "metadata": {},
   "source": [
    "# CHAPTER 9 - EXERCISE 5"
   ]
  },
  {
   "cell_type": "code",
   "execution_count": 1,
   "metadata": {},
   "outputs": [],
   "source": [
    "import findspark\n",
    "findspark.init()\n",
    "from pyspark import SparkContext\n",
    "from pyspark.sql import SparkSession"
   ]
  },
  {
   "cell_type": "markdown",
   "metadata": {},
   "source": [
    "## Nhập dữ liệu"
   ]
  },
  {
   "cell_type": "code",
   "execution_count": 2,
   "metadata": {},
   "outputs": [],
   "source": [
    "ss= SparkSession.builder.appName('Chapter 9 - Exercise 5').getOrCreate()"
   ]
  },
  {
   "cell_type": "code",
   "execution_count": 3,
   "metadata": {},
   "outputs": [],
   "source": [
    "path= '/Users/vovanthuong/Desktop/9 - Big Data in Machine Learning/Data/Chapter9/LDS9_Data_Day_7/instacart_2017_05_01/order_products__train.csv'\n",
    "df= ss.read.csv(path, header= True, inferSchema= True)"
   ]
  },
  {
   "cell_type": "code",
   "execution_count": 4,
   "metadata": {},
   "outputs": [
    {
     "name": "stdout",
     "output_type": "stream",
     "text": [
      "root\n",
      " |-- order_id: integer (nullable = true)\n",
      " |-- product_id: integer (nullable = true)\n",
      " |-- add_to_cart_order: integer (nullable = true)\n",
      " |-- reordered: integer (nullable = true)\n",
      "\n"
     ]
    }
   ],
   "source": [
    "df.printSchema()"
   ]
  },
  {
   "cell_type": "code",
   "execution_count": 5,
   "metadata": {},
   "outputs": [
    {
     "name": "stdout",
     "output_type": "stream",
     "text": [
      "+--------+----------+-----------------+---------+\n",
      "|order_id|product_id|add_to_cart_order|reordered|\n",
      "+--------+----------+-----------------+---------+\n",
      "|       1|     49302|                1|        1|\n",
      "|       1|     11109|                2|        1|\n",
      "|       1|     10246|                3|        0|\n",
      "|       1|     49683|                4|        0|\n",
      "|       1|     43633|                5|        1|\n",
      "|       1|     13176|                6|        0|\n",
      "|       1|     47209|                7|        0|\n",
      "|       1|     22035|                8|        1|\n",
      "|      36|     39612|                1|        0|\n",
      "|      36|     19660|                2|        1|\n",
      "+--------+----------+-----------------+---------+\n",
      "only showing top 10 rows\n",
      "\n"
     ]
    }
   ],
   "source": [
    "df.show(10)"
   ]
  },
  {
   "cell_type": "markdown",
   "metadata": {},
   "source": [
    "## Xử lý dữ liệu"
   ]
  },
  {
   "cell_type": "code",
   "execution_count": 11,
   "metadata": {},
   "outputs": [],
   "source": [
    "from pyspark.sql.functions import collect_set\n",
    "df_final= df.groupBy('order_id').agg(collect_set('product_id').alias('product_id'))"
   ]
  },
  {
   "cell_type": "code",
   "execution_count": 12,
   "metadata": {},
   "outputs": [
    {
     "name": "stdout",
     "output_type": "stream",
     "text": [
      "+--------+--------------------+\n",
      "|order_id|          product_id|\n",
      "+--------+--------------------+\n",
      "|    1342|[30827, 3798, 149...|\n",
      "|    1591|[48246, 44116, 24...|\n",
      "|    4519|             [29270]|\n",
      "|    4935|             [45190]|\n",
      "|    6357|[33731, 14669, 43...|\n",
      "+--------+--------------------+\n",
      "only showing top 5 rows\n",
      "\n"
     ]
    }
   ],
   "source": [
    "df_final.show(5)"
   ]
  },
  {
   "cell_type": "markdown",
   "metadata": {},
   "source": [
    "## Tạo mô hình"
   ]
  },
  {
   "cell_type": "code",
   "execution_count": 13,
   "metadata": {},
   "outputs": [],
   "source": [
    "from pyspark.ml.fpm import FPGrowth\n",
    "fpGrowth = FPGrowth(itemsCol=\"product_id\", minSupport=0.003, minConfidence=0.003)\n",
    "model = fpGrowth.fit(df_final)"
   ]
  },
  {
   "cell_type": "code",
   "execution_count": 33,
   "metadata": {},
   "outputs": [
    {
     "name": "stdout",
     "output_type": "stream",
     "text": [
      "+--------------------+-----+\n",
      "|               items| freq|\n",
      "+--------------------+-----+\n",
      "|             [13629]|  772|\n",
      "|              [5194]|  475|\n",
      "|             [24852]|18726|\n",
      "|             [13176]|15480|\n",
      "|             [35921]|  769|\n",
      "|             [20345]|  473|\n",
      "|             [21137]|10894|\n",
      "|      [21137, 13176]| 3074|\n",
      "|      [21137, 24852]| 2174|\n",
      "|             [23165]|  764|\n",
      "|             [13380]|  473|\n",
      "|              [7969]|  472|\n",
      "|             [21903]| 9784|\n",
      "|      [21903, 21137]| 1639|\n",
      "|[21903, 21137, 13...|  587|\n",
      "|      [21903, 13176]| 2236|\n",
      "|      [21903, 24852]| 2000|\n",
      "|             [32478]|  763|\n",
      "|             [47626]| 8135|\n",
      "|      [47626, 21137]| 1017|\n",
      "+--------------------+-----+\n",
      "only showing top 20 rows\n",
      "\n"
     ]
    }
   ],
   "source": [
    "freq_item_sets= model.freqItemsets\n",
    "freq_item_sets.show()"
   ]
  },
  {
   "cell_type": "code",
   "execution_count": 29,
   "metadata": {},
   "outputs": [
    {
     "name": "stdout",
     "output_type": "stream",
     "text": [
      "+--------+--------------------+--------------------+\n",
      "|order_id|          product_id|          prediction|\n",
      "+--------+--------------------+--------------------+\n",
      "|    1342|[30827, 3798, 149...|[21903, 47626, 47...|\n",
      "|    1591|[48246, 44116, 24...|[21137, 21903, 47...|\n",
      "|    4519|             [29270]|                  []|\n",
      "|    4935|             [45190]|                  []|\n",
      "|    6357|[33731, 14669, 43...|[21137, 21903, 47...|\n",
      "|   10362|[28522, 43789, 12...|[21137, 47626, 47...|\n",
      "|   19204|[45255, 37285, 48...|                  []|\n",
      "|   29601|[2716, 48057, 219...|[21137, 21903, 47...|\n",
      "|   31035|[40723, 8174, 131...|[21137, 21903, 47...|\n",
      "|   40011|[27292, 35213, 21...|[21137, 13176, 24...|\n",
      "|   46266|[38558, 48642, 13...|[47626, 47766, 47...|\n",
      "|   51607|[41390, 42752, 17...|                  []|\n",
      "|   58797|[30827, 8803, 326...|[21137, 21903, 47...|\n",
      "|   61793|[26348, 6184, 433...|[21137, 16797, 39...|\n",
      "|   67089|[47766, 29388, 21...|[47626, 21137, 47...|\n",
      "|   70863|[34791, 2618, 173...|      [13176, 24852]|\n",
      "|   88674|[25659, 16262, 22...|                  []|\n",
      "|   91937|[20708, 38200, 26...|                  []|\n",
      "|   92317|[18105, 34969, 17...|[13176, 21903, 21...|\n",
      "|   99621|[21616, 43789, 38...|[26209, 21137, 47...|\n",
      "+--------+--------------------+--------------------+\n",
      "only showing top 20 rows\n",
      "\n"
     ]
    }
   ],
   "source": [
    "prediction_items_set= model.transform(df_final)\n",
    "prediction_items_set.show()"
   ]
  },
  {
   "cell_type": "markdown",
   "metadata": {},
   "source": [
    "## Sử dụng tên product thay thế cho product id"
   ]
  },
  {
   "cell_type": "markdown",
   "metadata": {},
   "source": [
    "Thay thế id bằng name ở bảng data nguồn"
   ]
  },
  {
   "cell_type": "code",
   "execution_count": 16,
   "metadata": {},
   "outputs": [],
   "source": [
    "path_product_names= '/Users/vovanthuong/Desktop/9 - Big Data in Machine Learning/Data/Chapter9/LDS9_Data_Day_7/instacart_2017_05_01/products.csv'\n",
    "product_names= ss.read.csv(path_product_names, header= True, inferSchema= True)"
   ]
  },
  {
   "cell_type": "code",
   "execution_count": 17,
   "metadata": {},
   "outputs": [
    {
     "name": "stdout",
     "output_type": "stream",
     "text": [
      "root\n",
      " |-- product_id: integer (nullable = true)\n",
      " |-- product_name: string (nullable = true)\n",
      " |-- aisle_id: string (nullable = true)\n",
      " |-- department_id: string (nullable = true)\n",
      "\n"
     ]
    }
   ],
   "source": [
    "product_names.printSchema()"
   ]
  },
  {
   "cell_type": "code",
   "execution_count": 18,
   "metadata": {},
   "outputs": [
    {
     "name": "stdout",
     "output_type": "stream",
     "text": [
      "+----------+--------------------+--------+-------------+\n",
      "|product_id|        product_name|aisle_id|department_id|\n",
      "+----------+--------------------+--------+-------------+\n",
      "|         1|Chocolate Sandwic...|      61|           19|\n",
      "|         2|    All-Seasons Salt|     104|           13|\n",
      "|         3|Robust Golden Uns...|      94|            7|\n",
      "|         4|Smart Ones Classi...|      38|            1|\n",
      "|         5|Green Chile Anyti...|       5|           13|\n",
      "+----------+--------------------+--------+-------------+\n",
      "only showing top 5 rows\n",
      "\n"
     ]
    }
   ],
   "source": [
    "product_names.show(5)"
   ]
  },
  {
   "cell_type": "code",
   "execution_count": 19,
   "metadata": {},
   "outputs": [],
   "source": [
    "df_new= df.join(other= product_names.select('product_id', 'product_name'),\n",
    "                how= 'left', on= 'product_id')"
   ]
  },
  {
   "cell_type": "code",
   "execution_count": 20,
   "metadata": {},
   "outputs": [
    {
     "name": "stdout",
     "output_type": "stream",
     "text": [
      "root\n",
      " |-- product_id: integer (nullable = true)\n",
      " |-- order_id: integer (nullable = true)\n",
      " |-- add_to_cart_order: integer (nullable = true)\n",
      " |-- reordered: integer (nullable = true)\n",
      " |-- product_name: string (nullable = true)\n",
      "\n"
     ]
    }
   ],
   "source": [
    "df_new.printSchema()"
   ]
  },
  {
   "cell_type": "code",
   "execution_count": 21,
   "metadata": {},
   "outputs": [
    {
     "name": "stdout",
     "output_type": "stream",
     "text": [
      "+----------+--------+-----------------+---------+--------------------+\n",
      "|product_id|order_id|add_to_cart_order|reordered|        product_name|\n",
      "+----------+--------+-----------------+---------+--------------------+\n",
      "|     49302|       1|                1|        1|    Bulgarian Yogurt|\n",
      "|     11109|       1|                2|        1|Organic 4% Milk F...|\n",
      "|     10246|       1|                3|        0|Organic Celery He...|\n",
      "|     49683|       1|                4|        0|      Cucumber Kirby|\n",
      "|     43633|       1|                5|        1|Lightly Smoked Sa...|\n",
      "+----------+--------+-----------------+---------+--------------------+\n",
      "only showing top 5 rows\n",
      "\n"
     ]
    }
   ],
   "source": [
    "df_new.show(5)"
   ]
  },
  {
   "cell_type": "code",
   "execution_count": 22,
   "metadata": {},
   "outputs": [],
   "source": [
    "df_new_final= df_new.groupBy('order_id').agg(collect_set('product_name').alias('product_name'))"
   ]
  },
  {
   "cell_type": "code",
   "execution_count": 24,
   "metadata": {},
   "outputs": [],
   "source": [
    "# Tạo mô hình\n",
    "fpGrowth_new = FPGrowth(itemsCol=\"product_name\", minSupport=0.003, minConfidence=0.003)\n",
    "model_new = fpGrowth_new.fit(df_new_final)"
   ]
  },
  {
   "cell_type": "code",
   "execution_count": 32,
   "metadata": {},
   "outputs": [
    {
     "name": "stdout",
     "output_type": "stream",
     "text": [
      "+--------------------+-----+\n",
      "|               items| freq|\n",
      "+--------------------+-----+\n",
      "|[Organic Tomato B...|  772|\n",
      "|[Organic Spinach ...|  475|\n",
      "|            [Banana]|18726|\n",
      "|[Bag of Organic B...|15480|\n",
      "|[Organic Large Gr...|  769|\n",
      "|[Organic Blue Cor...|  473|\n",
      "|[Organic Strawber...|10894|\n",
      "|[Organic Strawber...| 3074|\n",
      "|[Organic Strawber...| 2174|\n",
      "|      [Organic Leek]|  764|\n",
      "|[Thin Crust Peppe...|  473|\n",
      "|              [Lime]|  472|\n",
      "|[Organic Baby Spi...| 9784|\n",
      "|[Organic Baby Spi...| 1639|\n",
      "|[Organic Baby Spi...|  587|\n",
      "|[Organic Baby Spi...| 2236|\n",
      "|[Organic Baby Spi...| 2000|\n",
      "|[Reduced Fat 2% M...|  763|\n",
      "|       [Large Lemon]| 8135|\n",
      "|[Large Lemon, Org...| 1017|\n",
      "+--------------------+-----+\n",
      "only showing top 20 rows\n",
      "\n"
     ]
    }
   ],
   "source": [
    "freq_item_sets_by_name= model_new.freqItemsets\n",
    "freq_item_sets_by_name.show()"
   ]
  },
  {
   "cell_type": "code",
   "execution_count": 47,
   "metadata": {},
   "outputs": [
    {
     "name": "stdout",
     "output_type": "stream",
     "text": [
      "root\n",
      " |-- items: array (nullable = false)\n",
      " |    |-- element: string (containsNull = true)\n",
      " |-- freq: long (nullable = false)\n",
      "\n"
     ]
    }
   ],
   "source": [
    "freq_item_sets_by_name.printSchema()"
   ]
  },
  {
   "cell_type": "code",
   "execution_count": 27,
   "metadata": {},
   "outputs": [
    {
     "name": "stdout",
     "output_type": "stream",
     "text": [
      "+--------+--------------------+--------------------+\n",
      "|order_id|        product_name|          prediction|\n",
      "+--------+--------------------+--------------------+\n",
      "|    1342|[Raw Shrimp, Seed...|[Organic Baby Spi...|\n",
      "|    1591|[Cracked Wheat, S...|[Organic Strawber...|\n",
      "|    4519|[Beet Apple Carro...|                  []|\n",
      "|    4935|             [Vodka]|                  []|\n",
      "|    6357|[Globe Eggplant, ...|[Organic Strawber...|\n",
      "|   10362|[Organic Baby Spi...|[Organic Strawber...|\n",
      "|   19204|[Reduced Fat Crac...|                  []|\n",
      "|   29601|[Organic Red Onio...|[Organic Strawber...|\n",
      "|   31035|[Organic Cripps P...|[Organic Strawber...|\n",
      "|   40011|[Organic Baby Spi...|[Organic Strawber...|\n",
      "|   46266|[Uncured Beef Hot...|[Large Lemon, Org...|\n",
      "|   51607|[Donut House Choc...|                  []|\n",
      "|   58797|[Concentrated But...|[Organic Strawber...|\n",
      "|   61793|[Raspberries, Gre...|[Organic Strawber...|\n",
      "|   67089|[Original Tofurky...|[Organic Strawber...|\n",
      "|   70863|[Extra Hold Non-A...|[Bag of Organic B...|\n",
      "|   88674|[Organic Coconut ...|                  []|\n",
      "|   91937|[No. 485 Gin, Mon...|                  []|\n",
      "|   92317|[Red Vine Tomato,...|[Organic Strawber...|\n",
      "|   99621|[Organic Baby Aru...|[Limes, Organic S...|\n",
      "+--------+--------------------+--------------------+\n",
      "only showing top 20 rows\n",
      "\n"
     ]
    }
   ],
   "source": [
    "prediction_items_set_by_name= model_new.transform(df_new_final)\n",
    "prediction_items_set_by_name.show()"
   ]
  },
  {
   "cell_type": "code",
   "execution_count": 46,
   "metadata": {},
   "outputs": [
    {
     "name": "stdout",
     "output_type": "stream",
     "text": [
      "root\n",
      " |-- order_id: integer (nullable = true)\n",
      " |-- product_name: array (nullable = true)\n",
      " |    |-- element: string (containsNull = true)\n",
      " |-- prediction: array (nullable = true)\n",
      " |    |-- element: string (containsNull = true)\n",
      "\n"
     ]
    }
   ],
   "source": [
    "prediction_items_set_by_name.printSchema()"
   ]
  },
  {
   "cell_type": "code",
   "execution_count": null,
   "metadata": {},
   "outputs": [],
   "source": []
  }
 ],
 "metadata": {
  "kernelspec": {
   "display_name": "Python 3",
   "language": "python",
   "name": "python3"
  },
  "language_info": {
   "codemirror_mode": {
    "name": "ipython",
    "version": 3
   },
   "file_extension": ".py",
   "mimetype": "text/x-python",
   "name": "python",
   "nbconvert_exporter": "python",
   "pygments_lexer": "ipython3",
   "version": "3.7.4"
  }
 },
 "nbformat": 4,
 "nbformat_minor": 2
}
